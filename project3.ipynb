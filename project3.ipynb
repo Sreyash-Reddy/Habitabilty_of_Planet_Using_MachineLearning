{
 "cells": [
  {
   "attachments": {},
   "cell_type": "markdown",
   "metadata": {},
   "source": [
    "Machine Learning Steps:\n",
    "1. Define Objective.\n",
    "2. Data Gathering.\n",
    "3. Data Exploration.\n",
    "4. Preparing Data.\n",
    "5. Building a model.\n",
    "6. Model Evaluation.\n",
    "7. Prediction."
   ]
  },
  {
   "attachments": {},
   "cell_type": "markdown",
   "metadata": {},
   "source": [
    "###################################################################################################################"
   ]
  },
  {
   "attachments": {},
   "cell_type": "markdown",
   "metadata": {},
   "source": [
    "Phase 1 -- Define Objective."
   ]
  },
  {
   "attachments": {},
   "cell_type": "markdown",
   "metadata": {},
   "source": [
    "###################################################################################################################"
   ]
  },
  {
   "attachments": {},
   "cell_type": "markdown",
   "metadata": {},
   "source": [
    "\n",
    "To build a model which can predict the habitability index of a planet using various parameters like P_RADIUS , S_RADIUS , S_DISTANCE , S_RADIUS , P_PERIOD etc.\n",
    "\n",
    "The input dataset is a csv file which contains the various parameters for a particular planet which is estimated by satellite or telescopic data.\n",
    "\n",
    "The data is further compiled by scientists in NASA to create a ultimate dataset which provides the habitability index.\n",
    "\n",
    "The dataset is downloaded from subbranch of NASA EXOPLANET ARCHIVES (https://exoplanetarchive.ipac.caltech.edu)\n"
   ]
  },
  {
   "attachments": {},
   "cell_type": "markdown",
   "metadata": {},
   "source": [
    "###################################################################################################################"
   ]
  },
  {
   "attachments": {},
   "cell_type": "markdown",
   "metadata": {},
   "source": [
    "Phase 2 -- Data Gathering"
   ]
  },
  {
   "attachments": {},
   "cell_type": "markdown",
   "metadata": {},
   "source": [
    "###################################################################################################################"
   ]
  },
  {
   "cell_type": "code",
   "execution_count": 1,
   "metadata": {},
   "outputs": [],
   "source": [
    "#importing essential libraries for Data Gathering\n",
    "import pandas as pd"
   ]
  },
  {
   "cell_type": "code",
   "execution_count": 2,
   "metadata": {},
   "outputs": [
    {
     "name": "stdout",
     "output_type": "stream",
     "text": [
      "<class 'pandas.core.frame.DataFrame'>\n",
      "RangeIndex: 4048 entries, 0 to 4047\n",
      "Columns: 112 entries, P_NAME to P_SEMI_MAJOR_AXIS_EST\n",
      "dtypes: float64(94), int64(4), object(14)\n",
      "memory usage: 3.5+ MB\n"
     ]
    }
   ],
   "source": [
    "intialData = pd.read_csv('phl_exoplanetCatalog.csv')\n",
    "intialData.info()"
   ]
  },
  {
   "cell_type": "code",
   "execution_count": 3,
   "metadata": {},
   "outputs": [
    {
     "data": {
      "text/html": [
       "<div>\n",
       "<style scoped>\n",
       "    .dataframe tbody tr th:only-of-type {\n",
       "        vertical-align: middle;\n",
       "    }\n",
       "\n",
       "    .dataframe tbody tr th {\n",
       "        vertical-align: top;\n",
       "    }\n",
       "\n",
       "    .dataframe thead th {\n",
       "        text-align: right;\n",
       "    }\n",
       "</style>\n",
       "<table border=\"1\" class=\"dataframe\">\n",
       "  <thead>\n",
       "    <tr style=\"text-align: right;\">\n",
       "      <th></th>\n",
       "      <th>P_NAME</th>\n",
       "      <th>P_STATUS</th>\n",
       "      <th>P_MASS</th>\n",
       "      <th>P_MASS_ERROR_MIN</th>\n",
       "      <th>P_MASS_ERROR_MAX</th>\n",
       "      <th>P_RADIUS</th>\n",
       "      <th>P_RADIUS_ERROR_MIN</th>\n",
       "      <th>P_RADIUS_ERROR_MAX</th>\n",
       "      <th>P_YEAR</th>\n",
       "      <th>P_UPDATED</th>\n",
       "      <th>...</th>\n",
       "      <th>P_HABZONE_CON</th>\n",
       "      <th>P_TYPE_TEMP</th>\n",
       "      <th>P_HABITABLE</th>\n",
       "      <th>P_ESI</th>\n",
       "      <th>S_CONSTELLATION</th>\n",
       "      <th>S_CONSTELLATION_ABR</th>\n",
       "      <th>S_CONSTELLATION_ENG</th>\n",
       "      <th>P_RADIUS_EST</th>\n",
       "      <th>P_MASS_EST</th>\n",
       "      <th>P_SEMI_MAJOR_AXIS_EST</th>\n",
       "    </tr>\n",
       "  </thead>\n",
       "  <tbody>\n",
       "    <tr>\n",
       "      <th>0</th>\n",
       "      <td>11 Com b</td>\n",
       "      <td>3.0</td>\n",
       "      <td>6165.86330</td>\n",
       "      <td>-476.74200</td>\n",
       "      <td>476.74200</td>\n",
       "      <td>NaN</td>\n",
       "      <td>NaN</td>\n",
       "      <td>NaN</td>\n",
       "      <td>2007</td>\n",
       "      <td>2014-05-14</td>\n",
       "      <td>...</td>\n",
       "      <td>0</td>\n",
       "      <td>Hot</td>\n",
       "      <td>0</td>\n",
       "      <td>0.083813</td>\n",
       "      <td>Coma Berenices</td>\n",
       "      <td>Com</td>\n",
       "      <td>Berenice's Hair</td>\n",
       "      <td>12.082709</td>\n",
       "      <td>6165.86330</td>\n",
       "      <td>1.29</td>\n",
       "    </tr>\n",
       "    <tr>\n",
       "      <th>1</th>\n",
       "      <td>11 UMi b</td>\n",
       "      <td>3.0</td>\n",
       "      <td>4684.78480</td>\n",
       "      <td>-794.57001</td>\n",
       "      <td>794.57001</td>\n",
       "      <td>NaN</td>\n",
       "      <td>NaN</td>\n",
       "      <td>NaN</td>\n",
       "      <td>2009</td>\n",
       "      <td>2018-09-06</td>\n",
       "      <td>...</td>\n",
       "      <td>0</td>\n",
       "      <td>Hot</td>\n",
       "      <td>0</td>\n",
       "      <td>0.082414</td>\n",
       "      <td>Ursa Minor</td>\n",
       "      <td>UMi</td>\n",
       "      <td>Little Bear</td>\n",
       "      <td>12.229641</td>\n",
       "      <td>4684.78480</td>\n",
       "      <td>1.53</td>\n",
       "    </tr>\n",
       "    <tr>\n",
       "      <th>2</th>\n",
       "      <td>14 And b</td>\n",
       "      <td>3.0</td>\n",
       "      <td>1525.57440</td>\n",
       "      <td>NaN</td>\n",
       "      <td>NaN</td>\n",
       "      <td>NaN</td>\n",
       "      <td>NaN</td>\n",
       "      <td>NaN</td>\n",
       "      <td>2008</td>\n",
       "      <td>2014-05-14</td>\n",
       "      <td>...</td>\n",
       "      <td>0</td>\n",
       "      <td>Hot</td>\n",
       "      <td>0</td>\n",
       "      <td>0.081917</td>\n",
       "      <td>Andromeda</td>\n",
       "      <td>And</td>\n",
       "      <td>Andromeda</td>\n",
       "      <td>12.848516</td>\n",
       "      <td>1525.57440</td>\n",
       "      <td>0.83</td>\n",
       "    </tr>\n",
       "    <tr>\n",
       "      <th>3</th>\n",
       "      <td>14 Her b</td>\n",
       "      <td>3.0</td>\n",
       "      <td>1481.07850</td>\n",
       "      <td>-47.67420</td>\n",
       "      <td>47.67420</td>\n",
       "      <td>NaN</td>\n",
       "      <td>NaN</td>\n",
       "      <td>NaN</td>\n",
       "      <td>2002</td>\n",
       "      <td>2018-09-06</td>\n",
       "      <td>...</td>\n",
       "      <td>0</td>\n",
       "      <td>Cold</td>\n",
       "      <td>0</td>\n",
       "      <td>0.145241</td>\n",
       "      <td>Hercules</td>\n",
       "      <td>Her</td>\n",
       "      <td>Hercules</td>\n",
       "      <td>12.865261</td>\n",
       "      <td>1481.07850</td>\n",
       "      <td>2.93</td>\n",
       "    </tr>\n",
       "    <tr>\n",
       "      <th>4</th>\n",
       "      <td>16 Cyg B b</td>\n",
       "      <td>3.0</td>\n",
       "      <td>565.73385</td>\n",
       "      <td>-25.42624</td>\n",
       "      <td>25.42624</td>\n",
       "      <td>NaN</td>\n",
       "      <td>NaN</td>\n",
       "      <td>NaN</td>\n",
       "      <td>1996</td>\n",
       "      <td>2018-09-06</td>\n",
       "      <td>...</td>\n",
       "      <td>1</td>\n",
       "      <td>Warm</td>\n",
       "      <td>0</td>\n",
       "      <td>0.368627</td>\n",
       "      <td>Cygnus</td>\n",
       "      <td>Cyg</td>\n",
       "      <td>Swan</td>\n",
       "      <td>13.421749</td>\n",
       "      <td>565.73385</td>\n",
       "      <td>1.66</td>\n",
       "    </tr>\n",
       "  </tbody>\n",
       "</table>\n",
       "<p>5 rows × 112 columns</p>\n",
       "</div>"
      ],
      "text/plain": [
       "       P_NAME  P_STATUS      P_MASS  P_MASS_ERROR_MIN  P_MASS_ERROR_MAX  \\\n",
       "0    11 Com b       3.0  6165.86330        -476.74200         476.74200   \n",
       "1    11 UMi b       3.0  4684.78480        -794.57001         794.57001   \n",
       "2    14 And b       3.0  1525.57440               NaN               NaN   \n",
       "3    14 Her b       3.0  1481.07850         -47.67420          47.67420   \n",
       "4  16 Cyg B b       3.0   565.73385         -25.42624          25.42624   \n",
       "\n",
       "   P_RADIUS  P_RADIUS_ERROR_MIN  P_RADIUS_ERROR_MAX  P_YEAR   P_UPDATED  ...  \\\n",
       "0       NaN                 NaN                 NaN    2007  2014-05-14  ...   \n",
       "1       NaN                 NaN                 NaN    2009  2018-09-06  ...   \n",
       "2       NaN                 NaN                 NaN    2008  2014-05-14  ...   \n",
       "3       NaN                 NaN                 NaN    2002  2018-09-06  ...   \n",
       "4       NaN                 NaN                 NaN    1996  2018-09-06  ...   \n",
       "\n",
       "   P_HABZONE_CON  P_TYPE_TEMP  P_HABITABLE     P_ESI  S_CONSTELLATION  \\\n",
       "0              0          Hot            0  0.083813   Coma Berenices   \n",
       "1              0          Hot            0  0.082414       Ursa Minor   \n",
       "2              0          Hot            0  0.081917        Andromeda   \n",
       "3              0         Cold            0  0.145241         Hercules   \n",
       "4              1         Warm            0  0.368627           Cygnus   \n",
       "\n",
       "   S_CONSTELLATION_ABR  S_CONSTELLATION_ENG  P_RADIUS_EST  P_MASS_EST  \\\n",
       "0                  Com      Berenice's Hair     12.082709  6165.86330   \n",
       "1                  UMi          Little Bear     12.229641  4684.78480   \n",
       "2                  And            Andromeda     12.848516  1525.57440   \n",
       "3                  Her             Hercules     12.865261  1481.07850   \n",
       "4                  Cyg                 Swan     13.421749   565.73385   \n",
       "\n",
       "   P_SEMI_MAJOR_AXIS_EST  \n",
       "0                   1.29  \n",
       "1                   1.53  \n",
       "2                   0.83  \n",
       "3                   2.93  \n",
       "4                   1.66  \n",
       "\n",
       "[5 rows x 112 columns]"
      ]
     },
     "execution_count": 3,
     "metadata": {},
     "output_type": "execute_result"
    }
   ],
   "source": [
    "intialData.head() #.head() displays the first five entries"
   ]
  },
  {
   "attachments": {},
   "cell_type": "markdown",
   "metadata": {},
   "source": [
    "###################################################################################################################"
   ]
  },
  {
   "attachments": {},
   "cell_type": "markdown",
   "metadata": {},
   "source": [
    "\n",
    "Phase 3 -- Data Exploration (Data Analysis)"
   ]
  },
  {
   "attachments": {},
   "cell_type": "markdown",
   "metadata": {},
   "source": [
    "###################################################################################################################"
   ]
  },
  {
   "cell_type": "code",
   "execution_count": 4,
   "metadata": {},
   "outputs": [],
   "source": [
    "#importing essential libraries for Data Analysis\n",
    "\n",
    "import matplotlib.pyplot as plt\n",
    "import numpy as np\n",
    "import warnings"
   ]
  },
  {
   "cell_type": "code",
   "execution_count": 5,
   "metadata": {},
   "outputs": [
    {
     "data": {
      "text/plain": [
       "0    3993\n",
       "2      34\n",
       "1      21\n",
       "Name: P_HABITABLE, dtype: int64"
      ]
     },
     "execution_count": 5,
     "metadata": {},
     "output_type": "execute_result"
    }
   ],
   "source": [
    "#Since Habitability Index is our required parameter let's analyze the distribution of the Habitability Index\n",
    "\n",
    "intialData['P_HABITABLE'].value_counts()"
   ]
  },
  {
   "cell_type": "code",
   "execution_count": 6,
   "metadata": {},
   "outputs": [
    {
     "data": {
      "text/plain": [
       "0    0.986413\n",
       "2    0.008399\n",
       "1    0.005188\n",
       "Name: P_HABITABLE, dtype: float64"
      ]
     },
     "execution_count": 6,
     "metadata": {},
     "output_type": "execute_result"
    }
   ],
   "source": [
    "#We normalize the values to find the each value contribution for habitability\n",
    "intialData['P_HABITABLE'].value_counts(normalize=True)\n"
   ]
  },
  {
   "cell_type": "code",
   "execution_count": 7,
   "metadata": {},
   "outputs": [
    {
     "data": {
      "image/png": "[encoded data removed]",
      "text/plain": [
       "<Figure size 640x480 with 1 Axes>"
      ]
     },
     "metadata": {},
     "output_type": "display_data"
    }
   ],
   "source": [
    "intialData.P_HABITABLE.value_counts(normalize = True, ascending = False).plot(kind='bar', color= ['red','green','orange'], alpha = 0.8, rot=0)\n",
    "plt.title('Habitability Index')\n",
    "plt.show()"
   ]
  },
  {
   "cell_type": "code",
   "execution_count": 8,
   "metadata": {},
   "outputs": [
    {
     "name": "stdout",
     "output_type": "stream",
     "text": [
      "0  =>  98.6413043478261 %\n",
      "1  =>  0.5187747035573123 %\n",
      "2  =>  0.8399209486166008 %\n"
     ]
    }
   ],
   "source": [
    "HabitabilityIndexValue = intialData['P_HABITABLE'].value_counts(normalize=True)\n",
    "HabitabilityIndexValuePercentage_asList = []\n",
    "\n",
    "for i in range(len(HabitabilityIndexValue)):\n",
    "    print(i , \" => \", HabitabilityIndexValue[i]*100 , \"%\")\n",
    "    HabitabilityIndexValuePercentage_asList.append(HabitabilityIndexValue[i]*100)"
   ]
  },
  {
   "cell_type": "code",
   "execution_count": 9,
   "metadata": {},
   "outputs": [
    {
     "data": {
      "image/png": "[encoded data removed]",
      "text/plain": [
       "<Figure size 640x480 with 1 Axes>"
      ]
     },
     "metadata": {},
     "output_type": "display_data"
    }
   ],
   "source": [
    "HabitabilityIndexValuePercentage_asNumpyArray = np.array(HabitabilityIndexValuePercentage_asList)\n",
    "LablesForHabitabilityIndex = []\n",
    "for i in range(len(HabitabilityIndexValuePercentage_asNumpyArray)):\n",
    "    LablesForHabitabilityIndex.append(\"Habitabilty Index = \"+str(i))\n",
    "plt.pie(HabitabilityIndexValuePercentage_asNumpyArray , labels = LablesForHabitabilityIndex)\n",
    "plt.legend(title = \"Habitability Index\")\n",
    "plt.show()"
   ]
  },
  {
   "attachments": {},
   "cell_type": "markdown",
   "metadata": {},
   "source": [
    "From the Data analyzed above, we can state that \n",
    "1. Planets with Zero Life Expectancy (Habitability Index = 0) => 98.4%  [3993]\n",
    "2. Planets with Minimum Life Expectancy (Habitability Index = 1) => 0.518% [21]\n",
    "3. Planets with Maximum Life Expectancy (Habitability Index = 2) => 0.839% [34]"
   ]
  },
  {
   "attachments": {},
   "cell_type": "markdown",
   "metadata": {},
   "source": [
    "Resampling Data (OverSampling) using Sckit Module"
   ]
  },
  {
   "cell_type": "code",
   "execution_count": 10,
   "metadata": {},
   "outputs": [],
   "source": [
    "#importing essential modules for preparing data\n",
    "\n",
    "from sklearn.utils import resample"
   ]
  },
  {
   "cell_type": "code",
   "execution_count": 11,
   "metadata": {},
   "outputs": [],
   "source": [
    "HabitabilityIndexValue0 = intialData[intialData.P_HABITABLE == 0]\n",
    "HabitabilityIndexValue1 = intialData[intialData.P_HABITABLE == 1]\n",
    "HabitabilityIndexValue2 = intialData[intialData.P_HABITABLE == 2]\n",
    "HabitabilityIndexValue1_Oversampled = resample(HabitabilityIndexValue1, replace=True, n_samples=len(HabitabilityIndexValue0), random_state=12345)\n",
    "oversampledData = pd.concat([HabitabilityIndexValue0, HabitabilityIndexValue1_Oversampled])\n",
    "HabitabilityIndexValue2_Oversampled = resample(HabitabilityIndexValue2, replace=True, n_samples=len(HabitabilityIndexValue0), random_state=12345)\n",
    "oversampledData = pd.concat([oversampledData, HabitabilityIndexValue2_Oversampled])"
   ]
  },
  {
   "cell_type": "code",
   "execution_count": 12,
   "metadata": {},
   "outputs": [
    {
     "data": {
      "text/plain": [
       "2    3993\n",
       "1    3993\n",
       "0    3993\n",
       "Name: P_HABITABLE, dtype: int64"
      ]
     },
     "execution_count": 12,
     "metadata": {},
     "output_type": "execute_result"
    }
   ],
   "source": [
    "oversampledData['P_HABITABLE'].value_counts()"
   ]
  },
  {
   "cell_type": "code",
   "execution_count": 13,
   "metadata": {},
   "outputs": [
    {
     "data": {
      "image/png": "[encoded data removed]",
      "text/plain": [
       "<Figure size 640x480 with 1 Axes>"
      ]
     },
     "metadata": {},
     "output_type": "display_data"
    }
   ],
   "source": [
    "oversampledData.P_HABITABLE.value_counts(normalize = True, ascending = False).plot(kind='bar', color= ['green','orange','red'], alpha = 0.8, rot=0)\n",
    "plt.title('Habitability Index')\n",
    "plt.show()"
   ]
  },
  {
   "attachments": {},
   "cell_type": "markdown",
   "metadata": {},
   "source": [
    "We can't deal with NULL values since they creates a lot of bias,\n",
    "\n",
    "Since these values are predicted by the satellites/Telescopes/Observatories \n",
    "We can't get values for all parameters\n",
    "\n",
    "So we need to eliminate some columns to make model train perfectly.\n"
   ]
  },
  {
   "cell_type": "code",
   "execution_count": 14,
   "metadata": {},
   "outputs": [
    {
     "data": {
      "text/html": [
       "<div>\n",
       "<style scoped>\n",
       "    .dataframe tbody tr th:only-of-type {\n",
       "        vertical-align: middle;\n",
       "    }\n",
       "\n",
       "    .dataframe tbody tr th {\n",
       "        vertical-align: top;\n",
       "    }\n",
       "\n",
       "    .dataframe thead th {\n",
       "        text-align: right;\n",
       "    }\n",
       "</style>\n",
       "<table border=\"1\" class=\"dataframe\">\n",
       "  <thead>\n",
       "    <tr style=\"text-align: right;\">\n",
       "      <th></th>\n",
       "      <th>Total</th>\n",
       "      <th>Percent/100</th>\n",
       "    </tr>\n",
       "  </thead>\n",
       "  <tbody>\n",
       "    <tr>\n",
       "      <th>P_GEO_ALBEDO</th>\n",
       "      <td>11979</td>\n",
       "      <td>1.000000</td>\n",
       "    </tr>\n",
       "    <tr>\n",
       "      <th>P_DETECTION_MASS</th>\n",
       "      <td>11979</td>\n",
       "      <td>1.000000</td>\n",
       "    </tr>\n",
       "    <tr>\n",
       "      <th>P_DETECTION_RADIUS</th>\n",
       "      <td>11979</td>\n",
       "      <td>1.000000</td>\n",
       "    </tr>\n",
       "    <tr>\n",
       "      <th>P_ALT_NAMES</th>\n",
       "      <td>11979</td>\n",
       "      <td>1.000000</td>\n",
       "    </tr>\n",
       "    <tr>\n",
       "      <th>P_ATMOSPHERE</th>\n",
       "      <td>11979</td>\n",
       "      <td>1.000000</td>\n",
       "    </tr>\n",
       "    <tr>\n",
       "      <th>S_DISC</th>\n",
       "      <td>11979</td>\n",
       "      <td>1.000000</td>\n",
       "    </tr>\n",
       "    <tr>\n",
       "      <th>S_MAGNETIC_FIELD</th>\n",
       "      <td>11979</td>\n",
       "      <td>1.000000</td>\n",
       "    </tr>\n",
       "    <tr>\n",
       "      <th>P_TEMP_MEASURED</th>\n",
       "      <td>11469</td>\n",
       "      <td>0.957425</td>\n",
       "    </tr>\n",
       "    <tr>\n",
       "      <th>P_GEO_ALBEDO_ERROR_MIN</th>\n",
       "      <td>11469</td>\n",
       "      <td>0.957425</td>\n",
       "    </tr>\n",
       "    <tr>\n",
       "      <th>P_GEO_ALBEDO_ERROR_MAX</th>\n",
       "      <td>11469</td>\n",
       "      <td>0.957425</td>\n",
       "    </tr>\n",
       "    <tr>\n",
       "      <th>P_TPERI_ERROR_MAX</th>\n",
       "      <td>10527</td>\n",
       "      <td>0.878788</td>\n",
       "    </tr>\n",
       "    <tr>\n",
       "      <th>P_TPERI_ERROR_MIN</th>\n",
       "      <td>10527</td>\n",
       "      <td>0.878788</td>\n",
       "    </tr>\n",
       "    <tr>\n",
       "      <th>P_TPERI</th>\n",
       "      <td>10518</td>\n",
       "      <td>0.878037</td>\n",
       "    </tr>\n",
       "    <tr>\n",
       "      <th>P_DENSITY</th>\n",
       "      <td>10233</td>\n",
       "      <td>0.854245</td>\n",
       "    </tr>\n",
       "    <tr>\n",
       "      <th>P_ESCAPE</th>\n",
       "      <td>10233</td>\n",
       "      <td>0.854245</td>\n",
       "    </tr>\n",
       "    <tr>\n",
       "      <th>P_GRAVITY</th>\n",
       "      <td>10233</td>\n",
       "      <td>0.854245</td>\n",
       "    </tr>\n",
       "    <tr>\n",
       "      <th>P_POTENTIAL</th>\n",
       "      <td>10233</td>\n",
       "      <td>0.854245</td>\n",
       "    </tr>\n",
       "    <tr>\n",
       "      <th>P_OMEGA_ERROR_MAX</th>\n",
       "      <td>9094</td>\n",
       "      <td>0.759162</td>\n",
       "    </tr>\n",
       "    <tr>\n",
       "      <th>P_OMEGA_ERROR_MIN</th>\n",
       "      <td>9094</td>\n",
       "      <td>0.759162</td>\n",
       "    </tr>\n",
       "    <tr>\n",
       "      <th>P_OMEGA</th>\n",
       "      <td>8747</td>\n",
       "      <td>0.730195</td>\n",
       "    </tr>\n",
       "    <tr>\n",
       "      <th>P_INCLINATION_ERROR_MAX</th>\n",
       "      <td>8360</td>\n",
       "      <td>0.697888</td>\n",
       "    </tr>\n",
       "    <tr>\n",
       "      <th>P_INCLINATION_ERROR_MIN</th>\n",
       "      <td>8358</td>\n",
       "      <td>0.697721</td>\n",
       "    </tr>\n",
       "    <tr>\n",
       "      <th>P_INCLINATION</th>\n",
       "      <td>8116</td>\n",
       "      <td>0.677519</td>\n",
       "    </tr>\n",
       "    <tr>\n",
       "      <th>P_ECCENTRICITY_ERROR_MAX</th>\n",
       "      <td>7429</td>\n",
       "      <td>0.620169</td>\n",
       "    </tr>\n",
       "    <tr>\n",
       "      <th>P_ECCENTRICITY_ERROR_MIN</th>\n",
       "      <td>7429</td>\n",
       "      <td>0.620169</td>\n",
       "    </tr>\n",
       "    <tr>\n",
       "      <th>S_AGE_ERROR_MIN</th>\n",
       "      <td>7017</td>\n",
       "      <td>0.585775</td>\n",
       "    </tr>\n",
       "    <tr>\n",
       "      <th>S_AGE_ERROR_MAX</th>\n",
       "      <td>7017</td>\n",
       "      <td>0.585775</td>\n",
       "    </tr>\n",
       "    <tr>\n",
       "      <th>P_IMPACT_PARAMETER_ERROR_MIN</th>\n",
       "      <td>6885</td>\n",
       "      <td>0.574756</td>\n",
       "    </tr>\n",
       "    <tr>\n",
       "      <th>P_IMPACT_PARAMETER_ERROR_MAX</th>\n",
       "      <td>6885</td>\n",
       "      <td>0.574756</td>\n",
       "    </tr>\n",
       "    <tr>\n",
       "      <th>P_IMPACT_PARAMETER</th>\n",
       "      <td>6790</td>\n",
       "      <td>0.566825</td>\n",
       "    </tr>\n",
       "    <tr>\n",
       "      <th>P_MASS_ERROR_MAX</th>\n",
       "      <td>6641</td>\n",
       "      <td>0.554387</td>\n",
       "    </tr>\n",
       "    <tr>\n",
       "      <th>P_MASS_ERROR_MIN</th>\n",
       "      <td>6641</td>\n",
       "      <td>0.554387</td>\n",
       "    </tr>\n",
       "    <tr>\n",
       "      <th>P_HILL_SPHERE</th>\n",
       "      <td>6562</td>\n",
       "      <td>0.547792</td>\n",
       "    </tr>\n",
       "    <tr>\n",
       "      <th>P_MASS</th>\n",
       "      <td>6510</td>\n",
       "      <td>0.543451</td>\n",
       "    </tr>\n",
       "    <tr>\n",
       "      <th>S_TYPE</th>\n",
       "      <td>5853</td>\n",
       "      <td>0.488605</td>\n",
       "    </tr>\n",
       "    <tr>\n",
       "      <th>P_ECCENTRICITY</th>\n",
       "      <td>5449</td>\n",
       "      <td>0.454879</td>\n",
       "    </tr>\n",
       "    <tr>\n",
       "      <th>S_AGE</th>\n",
       "      <td>5223</td>\n",
       "      <td>0.436013</td>\n",
       "    </tr>\n",
       "    <tr>\n",
       "      <th>P_SEMI_MAJOR_AXIS_ERROR_MIN</th>\n",
       "      <td>4263</td>\n",
       "      <td>0.355873</td>\n",
       "    </tr>\n",
       "    <tr>\n",
       "      <th>P_SEMI_MAJOR_AXIS_ERROR_MAX</th>\n",
       "      <td>4262</td>\n",
       "      <td>0.355789</td>\n",
       "    </tr>\n",
       "    <tr>\n",
       "      <th>S_LOG_G</th>\n",
       "      <td>3887</td>\n",
       "      <td>0.324485</td>\n",
       "    </tr>\n",
       "    <tr>\n",
       "      <th>P_RADIUS_ERROR_MAX</th>\n",
       "      <td>3774</td>\n",
       "      <td>0.315051</td>\n",
       "    </tr>\n",
       "    <tr>\n",
       "      <th>P_RADIUS_ERROR_MIN</th>\n",
       "      <td>3774</td>\n",
       "      <td>0.315051</td>\n",
       "    </tr>\n",
       "    <tr>\n",
       "      <th>P_RADIUS</th>\n",
       "      <td>3740</td>\n",
       "      <td>0.312213</td>\n",
       "    </tr>\n",
       "    <tr>\n",
       "      <th>P_ANGULAR_DISTANCE</th>\n",
       "      <td>3004</td>\n",
       "      <td>0.250772</td>\n",
       "    </tr>\n",
       "    <tr>\n",
       "      <th>P_SEMI_MAJOR_AXIS</th>\n",
       "      <td>2998</td>\n",
       "      <td>0.250271</td>\n",
       "    </tr>\n",
       "    <tr>\n",
       "      <th>S_METALLICITY_ERROR_MIN</th>\n",
       "      <td>2352</td>\n",
       "      <td>0.196344</td>\n",
       "    </tr>\n",
       "    <tr>\n",
       "      <th>S_METALLICITY_ERROR_MAX</th>\n",
       "      <td>2352</td>\n",
       "      <td>0.196344</td>\n",
       "    </tr>\n",
       "    <tr>\n",
       "      <th>S_MASS_ERROR_MIN</th>\n",
       "      <td>2073</td>\n",
       "      <td>0.173053</td>\n",
       "    </tr>\n",
       "    <tr>\n",
       "      <th>S_MASS_ERROR_MAX</th>\n",
       "      <td>2044</td>\n",
       "      <td>0.170632</td>\n",
       "    </tr>\n",
       "    <tr>\n",
       "      <th>S_METALLICITY</th>\n",
       "      <td>1956</td>\n",
       "      <td>0.163286</td>\n",
       "    </tr>\n",
       "  </tbody>\n",
       "</table>\n",
       "</div>"
      ],
      "text/plain": [
       "                              Total  Percent/100\n",
       "P_GEO_ALBEDO                  11979     1.000000\n",
       "P_DETECTION_MASS              11979     1.000000\n",
       "P_DETECTION_RADIUS            11979     1.000000\n",
       "P_ALT_NAMES                   11979     1.000000\n",
       "P_ATMOSPHERE                  11979     1.000000\n",
       "S_DISC                        11979     1.000000\n",
       "S_MAGNETIC_FIELD              11979     1.000000\n",
       "P_TEMP_MEASURED               11469     0.957425\n",
       "P_GEO_ALBEDO_ERROR_MIN        11469     0.957425\n",
       "P_GEO_ALBEDO_ERROR_MAX        11469     0.957425\n",
       "P_TPERI_ERROR_MAX             10527     0.878788\n",
       "P_TPERI_ERROR_MIN             10527     0.878788\n",
       "P_TPERI                       10518     0.878037\n",
       "P_DENSITY                     10233     0.854245\n",
       "P_ESCAPE                      10233     0.854245\n",
       "P_GRAVITY                     10233     0.854245\n",
       "P_POTENTIAL                   10233     0.854245\n",
       "P_OMEGA_ERROR_MAX              9094     0.759162\n",
       "P_OMEGA_ERROR_MIN              9094     0.759162\n",
       "P_OMEGA                        8747     0.730195\n",
       "P_INCLINATION_ERROR_MAX        8360     0.697888\n",
       "P_INCLINATION_ERROR_MIN        8358     0.697721\n",
       "P_INCLINATION                  8116     0.677519\n",
       "P_ECCENTRICITY_ERROR_MAX       7429     0.620169\n",
       "P_ECCENTRICITY_ERROR_MIN       7429     0.620169\n",
       "S_AGE_ERROR_MIN                7017     0.585775\n",
       "S_AGE_ERROR_MAX                7017     0.585775\n",
       "P_IMPACT_PARAMETER_ERROR_MIN   6885     0.574756\n",
       "P_IMPACT_PARAMETER_ERROR_MAX   6885     0.574756\n",
       "P_IMPACT_PARAMETER             6790     0.566825\n",
       "P_MASS_ERROR_MAX               6641     0.554387\n",
       "P_MASS_ERROR_MIN               6641     0.554387\n",
       "P_HILL_SPHERE                  6562     0.547792\n",
       "P_MASS                         6510     0.543451\n",
       "S_TYPE                         5853     0.488605\n",
       "P_ECCENTRICITY                 5449     0.454879\n",
       "S_AGE                          5223     0.436013\n",
       "P_SEMI_MAJOR_AXIS_ERROR_MIN    4263     0.355873\n",
       "P_SEMI_MAJOR_AXIS_ERROR_MAX    4262     0.355789\n",
       "S_LOG_G                        3887     0.324485\n",
       "P_RADIUS_ERROR_MAX             3774     0.315051\n",
       "P_RADIUS_ERROR_MIN             3774     0.315051\n",
       "P_RADIUS                       3740     0.312213\n",
       "P_ANGULAR_DISTANCE             3004     0.250772\n",
       "P_SEMI_MAJOR_AXIS              2998     0.250271\n",
       "S_METALLICITY_ERROR_MIN        2352     0.196344\n",
       "S_METALLICITY_ERROR_MAX        2352     0.196344\n",
       "S_MASS_ERROR_MIN               2073     0.173053\n",
       "S_MASS_ERROR_MAX               2044     0.170632\n",
       "S_METALLICITY                  1956     0.163286"
      ]
     },
     "execution_count": 14,
     "metadata": {},
     "output_type": "execute_result"
    }
   ],
   "source": [
    "total = oversampledData.isnull().sum().sort_values(ascending=False)\n",
    "totalNullData = oversampledData.isnull().sum()/oversampledData.isnull().count()\n",
    "percent = (totalNullData).sort_values(ascending=False)\n",
    "missingData = pd.concat([total, percent], axis=1, keys=['Total', 'Percent/100'])\n",
    "missingData.head(50)\n"
   ]
  },
  {
   "cell_type": "code",
   "execution_count": 15,
   "metadata": {},
   "outputs": [
    {
     "name": "stdout",
     "output_type": "stream",
     "text": [
      "The parameters with more than 50% of missing data are:\n",
      "\n",
      "P_GEO_ALBEDO\n",
      "P_DETECTION_MASS\n",
      "P_DETECTION_RADIUS\n",
      "P_ALT_NAMES\n",
      "P_ATMOSPHERE\n",
      "S_DISC\n",
      "S_MAGNETIC_FIELD\n",
      "P_TEMP_MEASURED\n",
      "P_GEO_ALBEDO_ERROR_MIN\n",
      "P_GEO_ALBEDO_ERROR_MAX\n",
      "P_TPERI_ERROR_MAX\n",
      "P_TPERI_ERROR_MIN\n",
      "P_TPERI\n",
      "P_DENSITY\n",
      "P_ESCAPE\n",
      "P_GRAVITY\n",
      "P_POTENTIAL\n",
      "P_OMEGA_ERROR_MAX\n",
      "P_OMEGA_ERROR_MIN\n",
      "P_OMEGA\n",
      "P_INCLINATION_ERROR_MAX\n",
      "P_INCLINATION_ERROR_MIN\n",
      "P_INCLINATION\n",
      "P_ECCENTRICITY_ERROR_MAX\n",
      "P_ECCENTRICITY_ERROR_MIN\n",
      "S_AGE_ERROR_MIN\n",
      "S_AGE_ERROR_MAX\n",
      "P_IMPACT_PARAMETER_ERROR_MIN\n",
      "P_IMPACT_PARAMETER_ERROR_MAX\n",
      "P_IMPACT_PARAMETER\n",
      "P_MASS_ERROR_MAX\n",
      "P_MASS_ERROR_MIN\n",
      "P_HILL_SPHERE\n",
      "P_MASS\n"
     ]
    }
   ],
   "source": [
    "missingDataParamsList = []\n",
    "\n",
    "missingDataValuePercentList = missingData.head(50).values.tolist()\n",
    "DataParamsList = missingData.index.tolist()\n",
    "\n",
    "for i in range(50):\n",
    "    if(missingDataValuePercentList[i][1] >= 0.5):\n",
    "        missingDataParamsList.append(DataParamsList[i])\n",
    "    else:\n",
    "        break\n",
    "\n",
    "print(\"The parameters with more than 50% of missing data are:\\n\")\n",
    "for eachParam in missingDataParamsList:\n",
    "    print(eachParam)"
   ]
  },
  {
   "attachments": {},
   "cell_type": "markdown",
   "metadata": {},
   "source": [
    "Now these columns have more than 50% of null data so these parameters (columns) have to be excluded"
   ]
  },
  {
   "cell_type": "code",
   "execution_count": 16,
   "metadata": {},
   "outputs": [
    {
     "name": "stdout",
     "output_type": "stream",
     "text": [
      "<class 'pandas.core.frame.DataFrame'>\n",
      "Int64Index: 11979 entries, 0 to 2205\n",
      "Data columns (total 78 columns):\n",
      " #   Column                       Non-Null Count  Dtype  \n",
      "---  ------                       --------------  -----  \n",
      " 0   P_NAME                       11979 non-null  object \n",
      " 1   P_STATUS                     11979 non-null  float64\n",
      " 2   P_RADIUS                     8239 non-null   float64\n",
      " 3   P_RADIUS_ERROR_MIN           8205 non-null   float64\n",
      " 4   P_RADIUS_ERROR_MAX           8205 non-null   float64\n",
      " 5   P_YEAR                       11979 non-null  int64  \n",
      " 6   P_UPDATED                    11979 non-null  object \n",
      " 7   P_PERIOD                     11869 non-null  float64\n",
      " 8   P_PERIOD_ERROR_MIN           11738 non-null  float64\n",
      " 9   P_PERIOD_ERROR_MAX           11738 non-null  float64\n",
      " 10  P_SEMI_MAJOR_AXIS            8981 non-null   float64\n",
      " 11  P_SEMI_MAJOR_AXIS_ERROR_MIN  7716 non-null   float64\n",
      " 12  P_SEMI_MAJOR_AXIS_ERROR_MAX  7717 non-null   float64\n",
      " 13  P_ECCENTRICITY               6530 non-null   float64\n",
      " 14  P_ANGULAR_DISTANCE           8975 non-null   float64\n",
      " 15  P_DETECTION                  11979 non-null  object \n",
      " 16  S_NAME                       11979 non-null  object \n",
      " 17  S_RA                         11979 non-null  float64\n",
      " 18  S_DEC                        11979 non-null  float64\n",
      " 19  S_MAG                        11800 non-null  float64\n",
      " 20  S_DISTANCE                   11973 non-null  float64\n",
      " 21  S_DISTANCE_ERROR_MIN         10889 non-null  float64\n",
      " 22  S_DISTANCE_ERROR_MAX         10889 non-null  float64\n",
      " 23  S_METALLICITY                10023 non-null  float64\n",
      " 24  S_METALLICITY_ERROR_MIN      9627 non-null   float64\n",
      " 25  S_METALLICITY_ERROR_MAX      9627 non-null   float64\n",
      " 26  S_MASS                       10862 non-null  float64\n",
      " 27  S_MASS_ERROR_MIN             9906 non-null   float64\n",
      " 28  S_MASS_ERROR_MAX             9935 non-null   float64\n",
      " 29  S_RADIUS                     10879 non-null  float64\n",
      " 30  S_RADIUS_ERROR_MIN           10616 non-null  float64\n",
      " 31  S_RADIUS_ERROR_MAX           10644 non-null  float64\n",
      " 32  S_TYPE                       6126 non-null   object \n",
      " 33  S_AGE                        6756 non-null   float64\n",
      " 34  S_TEMPERATURE                11772 non-null  float64\n",
      " 35  S_TEMPERATURE_ERROR_MIN      11474 non-null  float64\n",
      " 36  S_TEMPERATURE_ERROR_MAX      11504 non-null  float64\n",
      " 37  S_LOG_G                      8092 non-null   float64\n",
      " 38  S_ALT_NAMES                  11979 non-null  object \n",
      " 39  P_DISTANCE                   11909 non-null  float64\n",
      " 40  P_PERIASTRON                 11909 non-null  float64\n",
      " 41  P_APASTRON                   11909 non-null  float64\n",
      " 42  P_DISTANCE_EFF               11909 non-null  float64\n",
      " 43  P_FLUX                       11652 non-null  float64\n",
      " 44  P_FLUX_MIN                   11652 non-null  float64\n",
      " 45  P_FLUX_MAX                   11652 non-null  float64\n",
      " 46  P_TEMP_EQUIL                 11652 non-null  float64\n",
      " 47  P_TEMP_EQUIL_MIN             11652 non-null  float64\n",
      " 48  P_TEMP_EQUIL_MAX             11652 non-null  float64\n",
      " 49  P_TYPE                       11962 non-null  object \n",
      " 50  S_RADIUS_EST                 11775 non-null  float64\n",
      " 51  S_TYPE_TEMP                  11843 non-null  object \n",
      " 52  S_RA_H                       11979 non-null  float64\n",
      " 53  S_RA_T                       11979 non-null  object \n",
      " 54  S_DEC_T                      11979 non-null  object \n",
      " 55  S_LUMINOSITY                 11717 non-null  float64\n",
      " 56  S_HZ_OPT_MIN                 11717 non-null  float64\n",
      " 57  S_HZ_OPT_MAX                 11717 non-null  float64\n",
      " 58  S_HZ_CON_MIN                 11717 non-null  float64\n",
      " 59  S_HZ_CON_MAX                 11717 non-null  float64\n",
      " 60  S_HZ_CON0_MIN                11717 non-null  float64\n",
      " 61  S_HZ_CON0_MAX                11717 non-null  float64\n",
      " 62  S_HZ_CON1_MIN                11717 non-null  float64\n",
      " 63  S_HZ_CON1_MAX                11717 non-null  float64\n",
      " 64  S_SNOW_LINE                  11717 non-null  float64\n",
      " 65  S_ABIO_ZONE                  10662 non-null  float64\n",
      " 66  S_TIDAL_LOCK                 10743 non-null  float64\n",
      " 67  P_HABZONE_OPT                11979 non-null  int64  \n",
      " 68  P_HABZONE_CON                11979 non-null  int64  \n",
      " 69  P_TYPE_TEMP                  11652 non-null  object \n",
      " 70  P_HABITABLE                  11979 non-null  int64  \n",
      " 71  P_ESI                        11652 non-null  float64\n",
      " 72  S_CONSTELLATION              11979 non-null  object \n",
      " 73  S_CONSTELLATION_ABR          11979 non-null  object \n",
      " 74  S_CONSTELLATION_ENG          11979 non-null  object \n",
      " 75  P_RADIUS_EST                 11979 non-null  float64\n",
      " 76  P_MASS_EST                   11979 non-null  float64\n",
      " 77  P_SEMI_MAJOR_AXIS_EST        11909 non-null  float64\n",
      "dtypes: float64(60), int64(4), object(14)\n",
      "memory usage: 7.2+ MB\n"
     ]
    }
   ],
   "source": [
    "nullPartialFreeData = oversampledData.drop(missingDataParamsList , axis=1)\n",
    "nullPartialFreeData.info()"
   ]
  },
  {
   "attachments": {},
   "cell_type": "markdown",
   "metadata": {},
   "source": [
    "Now we have eliminated columns with more than 50% null values \n",
    "\n",
    "We need to deal with remaining columns which has less than 50% null values"
   ]
  },
  {
   "cell_type": "code",
   "execution_count": 17,
   "metadata": {},
   "outputs": [
    {
     "name": "stdout",
     "output_type": "stream",
     "text": [
      "Index(['P_NAME', 'P_UPDATED', 'P_DETECTION', 'S_NAME', 'S_TYPE', 'S_ALT_NAMES',\n",
      "       'P_TYPE', 'S_TYPE_TEMP', 'S_RA_T', 'S_DEC_T', 'P_TYPE_TEMP',\n",
      "       'S_CONSTELLATION', 'S_CONSTELLATION_ABR', 'S_CONSTELLATION_ENG'],\n",
      "      dtype='object')\n"
     ]
    }
   ],
   "source": [
    "print(nullPartialFreeData.select_dtypes(include=['object']).columns)\n",
    "nullPartialFreeData_WithObject_DataType = nullPartialFreeData.select_dtypes(include=['object'])\n"
   ]
  },
  {
   "cell_type": "code",
   "execution_count": 18,
   "metadata": {},
   "outputs": [
    {
     "data": {
      "text/html": [
       "<div>\n",
       "<style scoped>\n",
       "    .dataframe tbody tr th:only-of-type {\n",
       "        vertical-align: middle;\n",
       "    }\n",
       "\n",
       "    .dataframe tbody tr th {\n",
       "        vertical-align: top;\n",
       "    }\n",
       "\n",
       "    .dataframe thead th {\n",
       "        text-align: right;\n",
       "    }\n",
       "</style>\n",
       "<table border=\"1\" class=\"dataframe\">\n",
       "  <thead>\n",
       "    <tr style=\"text-align: right;\">\n",
       "      <th></th>\n",
       "      <th>Total</th>\n",
       "      <th>Percent</th>\n",
       "    </tr>\n",
       "  </thead>\n",
       "  <tbody>\n",
       "    <tr>\n",
       "      <th>S_TYPE</th>\n",
       "      <td>5853</td>\n",
       "      <td>0.488605</td>\n",
       "    </tr>\n",
       "    <tr>\n",
       "      <th>P_TYPE_TEMP</th>\n",
       "      <td>327</td>\n",
       "      <td>0.027298</td>\n",
       "    </tr>\n",
       "    <tr>\n",
       "      <th>S_TYPE_TEMP</th>\n",
       "      <td>136</td>\n",
       "      <td>0.011353</td>\n",
       "    </tr>\n",
       "    <tr>\n",
       "      <th>P_TYPE</th>\n",
       "      <td>17</td>\n",
       "      <td>0.001419</td>\n",
       "    </tr>\n",
       "    <tr>\n",
       "      <th>S_CONSTELLATION_ENG</th>\n",
       "      <td>0</td>\n",
       "      <td>0.000000</td>\n",
       "    </tr>\n",
       "  </tbody>\n",
       "</table>\n",
       "</div>"
      ],
      "text/plain": [
       "                     Total   Percent\n",
       "S_TYPE                5853  0.488605\n",
       "P_TYPE_TEMP            327  0.027298\n",
       "S_TYPE_TEMP            136  0.011353\n",
       "P_TYPE                  17  0.001419\n",
       "S_CONSTELLATION_ENG      0  0.000000"
      ]
     },
     "execution_count": 18,
     "metadata": {},
     "output_type": "execute_result"
    }
   ],
   "source": [
    "total = nullPartialFreeData_WithObject_DataType.isnull().sum().sort_values(ascending=False)\n",
    "percent = (nullPartialFreeData_WithObject_DataType.isnull().sum()/nullPartialFreeData_WithObject_DataType.isnull().count()).sort_values(ascending=False)\n",
    "missingImpute = pd.concat([total, percent], axis=1, keys=['Total', 'Percent'])\n",
    "missingImpute.head()\n"
   ]
  },
  {
   "cell_type": "code",
   "execution_count": 19,
   "metadata": {},
   "outputs": [
    {
     "name": "stdout",
     "output_type": "stream",
     "text": [
      "The parameters with objects as data type containing > 0% missing data are:\n",
      "\n",
      "S_TYPE\n",
      "P_TYPE_TEMP\n",
      "S_TYPE_TEMP\n",
      "P_TYPE\n"
     ]
    }
   ],
   "source": [
    "missingDataParamsListImpute = []\n",
    "missingDataValuePercentListImpute = missingImpute.head().values.tolist()\n",
    "DataParamsListImpute = missingImpute.index.tolist()\n",
    "\n",
    "for i in range(len(missingDataValuePercentListImpute)):\n",
    "    if(missingDataValuePercentListImpute[i][1] > 0):\n",
    "        missingDataParamsListImpute.append(DataParamsListImpute[i])\n",
    "    else:\n",
    "        break\n",
    "\n",
    "print(\"The parameters with objects as data type containing > 0% missing data are:\\n\")\n",
    "for eachParam in missingDataParamsListImpute:\n",
    "    print(eachParam)\n"
   ]
  },
  {
   "cell_type": "code",
   "execution_count": 20,
   "metadata": {},
   "outputs": [],
   "source": [
    "for each in missingDataParamsListImpute:\n",
    "    nullPartialFreeData[each] = nullPartialFreeData['S_TYPE'].fillna(nullPartialFreeData['S_TYPE'].mode()[0])"
   ]
  },
  {
   "cell_type": "code",
   "execution_count": 21,
   "metadata": {},
   "outputs": [
    {
     "data": {
      "text/plain": [
       "0       K0 III\n",
       "1       K4 III\n",
       "2       G8 III\n",
       "3         K0 V\n",
       "4       G2.5 V\n",
       "         ...  \n",
       "3285    M1.5 V\n",
       "1473    M1.5 V\n",
       "2591      M2 V\n",
       "2205    M1.5 V\n",
       "2205    M1.5 V\n",
       "Name: S_TYPE, Length: 11979, dtype: object"
      ]
     },
     "execution_count": 21,
     "metadata": {},
     "output_type": "execute_result"
    }
   ],
   "source": [
    "nullPartialFreeData['S_TYPE']"
   ]
  },
  {
   "attachments": {},
   "cell_type": "markdown",
   "metadata": {},
   "source": [
    "Converting Textual Data into Numeric Data"
   ]
  },
  {
   "cell_type": "code",
   "execution_count": 22,
   "metadata": {},
   "outputs": [],
   "source": [
    "from sklearn.preprocessing import LabelEncoder\n",
    "lencoders = {}\n",
    "for col in nullPartialFreeData.select_dtypes(include=['object']).columns:\n",
    "    lencoders[col] = LabelEncoder()\n",
    "    nullPartialFreeData[col] = lencoders[col].fit_transform(nullPartialFreeData[col])"
   ]
  },
  {
   "cell_type": "code",
   "execution_count": 23,
   "metadata": {},
   "outputs": [
    {
     "data": {
      "text/plain": [
       "0       109\n",
       "1       145\n",
       "2        91\n",
       "3       115\n",
       "4        59\n",
       "       ... \n",
       "3285    175\n",
       "1473    175\n",
       "2591    179\n",
       "2205    175\n",
       "2205    175\n",
       "Name: S_TYPE, Length: 11979, dtype: int32"
      ]
     },
     "execution_count": 23,
     "metadata": {},
     "output_type": "execute_result"
    }
   ],
   "source": [
    "nullPartialFreeData['S_TYPE']"
   ]
  },
  {
   "cell_type": "code",
   "execution_count": 24,
   "metadata": {},
   "outputs": [
    {
     "data": {
      "text/plain": [
       "P_NAME                      0\n",
       "P_STATUS                    0\n",
       "P_RADIUS                 3740\n",
       "P_RADIUS_ERROR_MIN       3774\n",
       "P_RADIUS_ERROR_MAX       3774\n",
       "                         ... \n",
       "S_CONSTELLATION_ABR         0\n",
       "S_CONSTELLATION_ENG         0\n",
       "P_RADIUS_EST                0\n",
       "P_MASS_EST                  0\n",
       "P_SEMI_MAJOR_AXIS_EST      70\n",
       "Length: 78, dtype: int64"
      ]
     },
     "execution_count": 24,
     "metadata": {},
     "output_type": "execute_result"
    }
   ],
   "source": [
    "nullPartialFreeData.isna().sum(axis = 0)"
   ]
  },
  {
   "cell_type": "code",
   "execution_count": 25,
   "metadata": {},
   "outputs": [
    {
     "data": {
      "text/html": [
       "<div>\n",
       "<style scoped>\n",
       "    .dataframe tbody tr th:only-of-type {\n",
       "        vertical-align: middle;\n",
       "    }\n",
       "\n",
       "    .dataframe tbody tr th {\n",
       "        vertical-align: top;\n",
       "    }\n",
       "\n",
       "    .dataframe thead th {\n",
       "        text-align: right;\n",
       "    }\n",
       "</style>\n",
       "<table border=\"1\" class=\"dataframe\">\n",
       "  <thead>\n",
       "    <tr style=\"text-align: right;\">\n",
       "      <th></th>\n",
       "      <th>P_NAME</th>\n",
       "      <th>P_STATUS</th>\n",
       "      <th>P_RADIUS</th>\n",
       "      <th>P_RADIUS_ERROR_MIN</th>\n",
       "      <th>P_RADIUS_ERROR_MAX</th>\n",
       "      <th>P_YEAR</th>\n",
       "      <th>P_UPDATED</th>\n",
       "      <th>P_PERIOD</th>\n",
       "      <th>P_PERIOD_ERROR_MIN</th>\n",
       "      <th>P_PERIOD_ERROR_MAX</th>\n",
       "      <th>...</th>\n",
       "      <th>P_HABZONE_CON</th>\n",
       "      <th>P_TYPE_TEMP</th>\n",
       "      <th>P_HABITABLE</th>\n",
       "      <th>P_ESI</th>\n",
       "      <th>S_CONSTELLATION</th>\n",
       "      <th>S_CONSTELLATION_ABR</th>\n",
       "      <th>S_CONSTELLATION_ENG</th>\n",
       "      <th>P_RADIUS_EST</th>\n",
       "      <th>P_MASS_EST</th>\n",
       "      <th>P_SEMI_MAJOR_AXIS_EST</th>\n",
       "    </tr>\n",
       "  </thead>\n",
       "  <tbody>\n",
       "    <tr>\n",
       "      <th>0</th>\n",
       "      <td>0.0</td>\n",
       "      <td>3.0</td>\n",
       "      <td>2.723031</td>\n",
       "      <td>-0.238321</td>\n",
       "      <td>0.310348</td>\n",
       "      <td>2007.0</td>\n",
       "      <td>0.0</td>\n",
       "      <td>326.03000</td>\n",
       "      <td>-0.32</td>\n",
       "      <td>0.32</td>\n",
       "      <td>...</td>\n",
       "      <td>0.0</td>\n",
       "      <td>109.0</td>\n",
       "      <td>0.0</td>\n",
       "      <td>0.083813</td>\n",
       "      <td>24.0</td>\n",
       "      <td>24.0</td>\n",
       "      <td>5.0</td>\n",
       "      <td>12.082709</td>\n",
       "      <td>6165.86330</td>\n",
       "      <td>1.29</td>\n",
       "    </tr>\n",
       "    <tr>\n",
       "      <th>1</th>\n",
       "      <td>1.0</td>\n",
       "      <td>3.0</td>\n",
       "      <td>2.723031</td>\n",
       "      <td>-0.238321</td>\n",
       "      <td>0.310348</td>\n",
       "      <td>2009.0</td>\n",
       "      <td>146.0</td>\n",
       "      <td>516.21997</td>\n",
       "      <td>-3.20</td>\n",
       "      <td>3.20</td>\n",
       "      <td>...</td>\n",
       "      <td>0.0</td>\n",
       "      <td>145.0</td>\n",
       "      <td>0.0</td>\n",
       "      <td>0.082414</td>\n",
       "      <td>83.0</td>\n",
       "      <td>83.0</td>\n",
       "      <td>42.0</td>\n",
       "      <td>12.229641</td>\n",
       "      <td>4684.78480</td>\n",
       "      <td>1.53</td>\n",
       "    </tr>\n",
       "    <tr>\n",
       "      <th>2</th>\n",
       "      <td>2.0</td>\n",
       "      <td>3.0</td>\n",
       "      <td>2.723031</td>\n",
       "      <td>-0.238321</td>\n",
       "      <td>0.310348</td>\n",
       "      <td>2008.0</td>\n",
       "      <td>0.0</td>\n",
       "      <td>185.84000</td>\n",
       "      <td>-0.23</td>\n",
       "      <td>0.23</td>\n",
       "      <td>...</td>\n",
       "      <td>0.0</td>\n",
       "      <td>91.0</td>\n",
       "      <td>0.0</td>\n",
       "      <td>0.081917</td>\n",
       "      <td>0.0</td>\n",
       "      <td>0.0</td>\n",
       "      <td>2.0</td>\n",
       "      <td>12.848516</td>\n",
       "      <td>1525.57440</td>\n",
       "      <td>0.83</td>\n",
       "    </tr>\n",
       "    <tr>\n",
       "      <th>3</th>\n",
       "      <td>3.0</td>\n",
       "      <td>3.0</td>\n",
       "      <td>2.723031</td>\n",
       "      <td>-0.238321</td>\n",
       "      <td>0.310348</td>\n",
       "      <td>2002.0</td>\n",
       "      <td>146.0</td>\n",
       "      <td>1773.40000</td>\n",
       "      <td>-2.50</td>\n",
       "      <td>2.50</td>\n",
       "      <td>...</td>\n",
       "      <td>0.0</td>\n",
       "      <td>115.0</td>\n",
       "      <td>0.0</td>\n",
       "      <td>0.145241</td>\n",
       "      <td>39.0</td>\n",
       "      <td>39.0</td>\n",
       "      <td>34.0</td>\n",
       "      <td>12.865261</td>\n",
       "      <td>1481.07850</td>\n",
       "      <td>2.93</td>\n",
       "    </tr>\n",
       "    <tr>\n",
       "      <th>4</th>\n",
       "      <td>4.0</td>\n",
       "      <td>3.0</td>\n",
       "      <td>2.723031</td>\n",
       "      <td>-0.238321</td>\n",
       "      <td>0.310348</td>\n",
       "      <td>1996.0</td>\n",
       "      <td>146.0</td>\n",
       "      <td>798.50000</td>\n",
       "      <td>-1.00</td>\n",
       "      <td>1.00</td>\n",
       "      <td>...</td>\n",
       "      <td>1.0</td>\n",
       "      <td>59.0</td>\n",
       "      <td>0.0</td>\n",
       "      <td>0.368627</td>\n",
       "      <td>30.0</td>\n",
       "      <td>30.0</td>\n",
       "      <td>75.0</td>\n",
       "      <td>13.421749</td>\n",
       "      <td>565.73385</td>\n",
       "      <td>1.66</td>\n",
       "    </tr>\n",
       "  </tbody>\n",
       "</table>\n",
       "<p>5 rows × 78 columns</p>\n",
       "</div>"
      ],
      "text/plain": [
       "   P_NAME  P_STATUS  P_RADIUS  P_RADIUS_ERROR_MIN  P_RADIUS_ERROR_MAX  P_YEAR  \\\n",
       "0     0.0       3.0  2.723031           -0.238321            0.310348  2007.0   \n",
       "1     1.0       3.0  2.723031           -0.238321            0.310348  2009.0   \n",
       "2     2.0       3.0  2.723031           -0.238321            0.310348  2008.0   \n",
       "3     3.0       3.0  2.723031           -0.238321            0.310348  2002.0   \n",
       "4     4.0       3.0  2.723031           -0.238321            0.310348  1996.0   \n",
       "\n",
       "   P_UPDATED    P_PERIOD  P_PERIOD_ERROR_MIN  P_PERIOD_ERROR_MAX  ...  \\\n",
       "0        0.0   326.03000               -0.32                0.32  ...   \n",
       "1      146.0   516.21997               -3.20                3.20  ...   \n",
       "2        0.0   185.84000               -0.23                0.23  ...   \n",
       "3      146.0  1773.40000               -2.50                2.50  ...   \n",
       "4      146.0   798.50000               -1.00                1.00  ...   \n",
       "\n",
       "   P_HABZONE_CON  P_TYPE_TEMP  P_HABITABLE     P_ESI  S_CONSTELLATION  \\\n",
       "0            0.0        109.0          0.0  0.083813             24.0   \n",
       "1            0.0        145.0          0.0  0.082414             83.0   \n",
       "2            0.0         91.0          0.0  0.081917              0.0   \n",
       "3            0.0        115.0          0.0  0.145241             39.0   \n",
       "4            1.0         59.0          0.0  0.368627             30.0   \n",
       "\n",
       "   S_CONSTELLATION_ABR  S_CONSTELLATION_ENG  P_RADIUS_EST  P_MASS_EST  \\\n",
       "0                 24.0                  5.0     12.082709  6165.86330   \n",
       "1                 83.0                 42.0     12.229641  4684.78480   \n",
       "2                  0.0                  2.0     12.848516  1525.57440   \n",
       "3                 39.0                 34.0     12.865261  1481.07850   \n",
       "4                 30.0                 75.0     13.421749   565.73385   \n",
       "\n",
       "   P_SEMI_MAJOR_AXIS_EST  \n",
       "0                   1.29  \n",
       "1                   1.53  \n",
       "2                   0.83  \n",
       "3                   2.93  \n",
       "4                   1.66  \n",
       "\n",
       "[5 rows x 78 columns]"
      ]
     },
     "execution_count": 25,
     "metadata": {},
     "output_type": "execute_result"
    }
   ],
   "source": [
    "from sklearn.experimental import enable_iterative_imputer\n",
    "from sklearn.impute import IterativeImputer\n",
    "nullFreeData = nullPartialFreeData.copy(deep=True) \n",
    "mice_imputer = IterativeImputer()\n",
    "nullFreeData.iloc[:, :] = mice_imputer.fit_transform(nullPartialFreeData)\n",
    "nullFreeData.head()"
   ]
  },
  {
   "cell_type": "code",
   "execution_count": 26,
   "metadata": {},
   "outputs": [
    {
     "data": {
      "text/plain": [
       "P_NAME                   0\n",
       "P_STATUS                 0\n",
       "P_RADIUS                 0\n",
       "P_RADIUS_ERROR_MIN       0\n",
       "P_RADIUS_ERROR_MAX       0\n",
       "                        ..\n",
       "S_CONSTELLATION_ABR      0\n",
       "S_CONSTELLATION_ENG      0\n",
       "P_RADIUS_EST             0\n",
       "P_MASS_EST               0\n",
       "P_SEMI_MAJOR_AXIS_EST    0\n",
       "Length: 78, dtype: int64"
      ]
     },
     "execution_count": 26,
     "metadata": {},
     "output_type": "execute_result"
    }
   ],
   "source": [
    "nullFreeData.isna().sum(axis = 0)"
   ]
  },
  {
   "attachments": {},
   "cell_type": "markdown",
   "metadata": {},
   "source": [
    "Removing Collinearity"
   ]
  },
  {
   "cell_type": "code",
   "execution_count": 27,
   "metadata": {},
   "outputs": [],
   "source": [
    "modelInputData = nullFreeData.drop(['S_NAME', 'P_RADIUS', 'P_RADIUS_ERROR_MIN', 'P_RADIUS_ERROR_MAX', 'P_DISTANCE', 'P_PERIASTRON', 'P_APASTRON', \n",
    "                                 'P_DISTANCE_EFF', 'P_FLUX_MIN', 'P_FLUX_MAX', 'P_TEMP_EQUIL', 'P_TEMP_EQUIL_MIN', 'P_TEMP_EQUIL_MAX', \n",
    "                                 'S_RADIUS_EST', 'S_RA_H', 'S_RA_T', 'S_LUMINOSITY', 'S_HZ_OPT_MIN', 'S_HZ_OPT_MAX', 'S_HZ_CON_MIN', \n",
    "                                 'S_HZ_CON_MAX', 'S_HZ_CON0_MIN', 'S_HZ_CON0_MAX', 'S_HZ_CON1_MIN', 'S_HZ_CON1_MAX', 'S_SNOW_LINE', \n",
    "                                'P_PERIOD_ERROR_MIN', 'P_PERIOD_ERROR_MAX', 'S_MAG', 'S_DISTANCE_ERROR_MIN', 'S_DISTANCE_ERROR_MAX', \n",
    "                                 'S_METALLICITY', 'S_METALLICITY_ERROR_MIN', 'S_METALLICITY_ERROR_MAX', 'S_AGE', 'S_TEMPERATURE_ERROR_MIN', \n",
    "                                 'S_TEMPERATURE_ERROR_MAX', 'S_ABIO_ZONE', 'P_ESI', 'S_CONSTELLATION_ABR', 'P_SEMI_MAJOR_AXIS_EST'], axis=1)"
   ]
  },
  {
   "cell_type": "code",
   "execution_count": 28,
   "metadata": {},
   "outputs": [
    {
     "name": "stdout",
     "output_type": "stream",
     "text": [
      "<class 'pandas.core.frame.DataFrame'>\n",
      "Int64Index: 11979 entries, 0 to 2205\n",
      "Data columns (total 37 columns):\n",
      " #   Column                       Non-Null Count  Dtype  \n",
      "---  ------                       --------------  -----  \n",
      " 0   P_NAME                       11979 non-null  float64\n",
      " 1   P_STATUS                     11979 non-null  float64\n",
      " 2   P_YEAR                       11979 non-null  float64\n",
      " 3   P_UPDATED                    11979 non-null  float64\n",
      " 4   P_PERIOD                     11979 non-null  float64\n",
      " 5   P_SEMI_MAJOR_AXIS            11979 non-null  float64\n",
      " 6   P_SEMI_MAJOR_AXIS_ERROR_MIN  11979 non-null  float64\n",
      " 7   P_SEMI_MAJOR_AXIS_ERROR_MAX  11979 non-null  float64\n",
      " 8   P_ECCENTRICITY               11979 non-null  float64\n",
      " 9   P_ANGULAR_DISTANCE           11979 non-null  float64\n",
      " 10  P_DETECTION                  11979 non-null  float64\n",
      " 11  S_RA                         11979 non-null  float64\n",
      " 12  S_DEC                        11979 non-null  float64\n",
      " 13  S_DISTANCE                   11979 non-null  float64\n",
      " 14  S_MASS                       11979 non-null  float64\n",
      " 15  S_MASS_ERROR_MIN             11979 non-null  float64\n",
      " 16  S_MASS_ERROR_MAX             11979 non-null  float64\n",
      " 17  S_RADIUS                     11979 non-null  float64\n",
      " 18  S_RADIUS_ERROR_MIN           11979 non-null  float64\n",
      " 19  S_RADIUS_ERROR_MAX           11979 non-null  float64\n",
      " 20  S_TYPE                       11979 non-null  float64\n",
      " 21  S_TEMPERATURE                11979 non-null  float64\n",
      " 22  S_LOG_G                      11979 non-null  float64\n",
      " 23  S_ALT_NAMES                  11979 non-null  float64\n",
      " 24  P_FLUX                       11979 non-null  float64\n",
      " 25  P_TYPE                       11979 non-null  float64\n",
      " 26  S_TYPE_TEMP                  11979 non-null  float64\n",
      " 27  S_DEC_T                      11979 non-null  float64\n",
      " 28  S_TIDAL_LOCK                 11979 non-null  float64\n",
      " 29  P_HABZONE_OPT                11979 non-null  float64\n",
      " 30  P_HABZONE_CON                11979 non-null  float64\n",
      " 31  P_TYPE_TEMP                  11979 non-null  float64\n",
      " 32  P_HABITABLE                  11979 non-null  float64\n",
      " 33  S_CONSTELLATION              11979 non-null  float64\n",
      " 34  S_CONSTELLATION_ENG          11979 non-null  float64\n",
      " 35  P_RADIUS_EST                 11979 non-null  float64\n",
      " 36  P_MASS_EST                   11979 non-null  float64\n",
      "dtypes: float64(37)\n",
      "memory usage: 3.5 MB\n"
     ]
    }
   ],
   "source": [
    "modelInputData.info()"
   ]
  },
  {
   "cell_type": "code",
   "execution_count": 29,
   "metadata": {},
   "outputs": [],
   "source": [
    "Q1 = modelInputData.quantile(0.25)\n",
    "Q3 = modelInputData.quantile(0.75)\n",
    "IQR = Q3 - Q1\n",
    "modelInputData = modelInputData[~((modelInputData < (Q1 - 1.5 * IQR)) |(modelInputData > (Q3 + 1.5 * IQR))).any(axis=1)]"
   ]
  },
  {
   "attachments": {},
   "cell_type": "markdown",
   "metadata": {},
   "source": [
    "########################################################################################################################################"
   ]
  },
  {
   "attachments": {},
   "cell_type": "markdown",
   "metadata": {},
   "source": [
    "Phase 4 -- Preparing Data"
   ]
  },
  {
   "attachments": {},
   "cell_type": "markdown",
   "metadata": {},
   "source": [
    "########################################################################################################################################"
   ]
  },
  {
   "attachments": {},
   "cell_type": "markdown",
   "metadata": {},
   "source": [
    "Feature Extraction"
   ]
  },
  {
   "cell_type": "code",
   "execution_count": 30,
   "metadata": {},
   "outputs": [],
   "source": [
    "import eli5\n",
    "from eli5.sklearn import PermutationImportance\n",
    "from sklearn.ensemble import RandomForestClassifier as rf"
   ]
  },
  {
   "cell_type": "code",
   "execution_count": 31,
   "metadata": {},
   "outputs": [
    {
     "data": {
      "text/html": [
       "\n",
       "    <style>\n",
       "    table.eli5-weights tr:hover {\n",
       "        filter: brightness(85%);\n",
       "    }\n",
       "</style>\n",
       "\n",
       "\n",
       "\n",
       "    \n",
       "\n",
       "    \n",
       "\n",
       "    \n",
       "\n",
       "    \n",
       "\n",
       "    \n",
       "\n",
       "    \n",
       "\n",
       "\n",
       "    \n",
       "\n",
       "    \n",
       "\n",
       "    \n",
       "\n",
       "    \n",
       "\n",
       "    \n",
       "\n",
       "    \n",
       "\n",
       "\n",
       "    \n",
       "\n",
       "    \n",
       "\n",
       "    \n",
       "\n",
       "    \n",
       "\n",
       "    \n",
       "        <table class=\"eli5-weights eli5-feature-importances\" style=\"border-collapse: collapse; border: none; margin-top: 0em; table-layout: auto;\">\n",
       "    <thead>\n",
       "    <tr style=\"border: none;\">\n",
       "        <th style=\"padding: 0 1em 0 0.5em; text-align: right; border: none;\">Weight</th>\n",
       "        <th style=\"padding: 0 0.5em 0 0.5em; text-align: left; border: none;\">Feature</th>\n",
       "    </tr>\n",
       "    </thead>\n",
       "    <tbody>\n",
       "    \n",
       "        <tr style=\"background-color: hsl(120, 100.00%, 80.00%); border: none;\">\n",
       "            <td style=\"padding: 0 1em 0 0.5em; text-align: right; border: none;\">\n",
       "                0.0537\n",
       "                \n",
       "                    &plusmn; 0.0055\n",
       "                \n",
       "            </td>\n",
       "            <td style=\"padding: 0 0.5em 0 0.5em; text-align: left; border: none;\">\n",
       "                P_MASS_EST\n",
       "            </td>\n",
       "        </tr>\n",
       "    \n",
       "        <tr style=\"background-color: hsl(120, 100.00%, 84.15%); border: none;\">\n",
       "            <td style=\"padding: 0 1em 0 0.5em; text-align: right; border: none;\">\n",
       "                0.0385\n",
       "                \n",
       "                    &plusmn; 0.0042\n",
       "                \n",
       "            </td>\n",
       "            <td style=\"padding: 0 0.5em 0 0.5em; text-align: left; border: none;\">\n",
       "                P_FLUX\n",
       "            </td>\n",
       "        </tr>\n",
       "    \n",
       "        <tr style=\"background-color: hsl(120, 100.00%, 84.89%); border: none;\">\n",
       "            <td style=\"padding: 0 1em 0 0.5em; text-align: right; border: none;\">\n",
       "                0.0360\n",
       "                \n",
       "                    &plusmn; 0.0031\n",
       "                \n",
       "            </td>\n",
       "            <td style=\"padding: 0 0.5em 0 0.5em; text-align: left; border: none;\">\n",
       "                P_PERIOD\n",
       "            </td>\n",
       "        </tr>\n",
       "    \n",
       "        <tr style=\"background-color: hsl(120, 100.00%, 87.65%); border: none;\">\n",
       "            <td style=\"padding: 0 1em 0 0.5em; text-align: right; border: none;\">\n",
       "                0.0270\n",
       "                \n",
       "                    &plusmn; 0.0043\n",
       "                \n",
       "            </td>\n",
       "            <td style=\"padding: 0 0.5em 0 0.5em; text-align: left; border: none;\">\n",
       "                P_RADIUS_EST\n",
       "            </td>\n",
       "        </tr>\n",
       "    \n",
       "        <tr style=\"background-color: hsl(120, 100.00%, 94.04%); border: none;\">\n",
       "            <td style=\"padding: 0 1em 0 0.5em; text-align: right; border: none;\">\n",
       "                0.0095\n",
       "                \n",
       "                    &plusmn; 0.0025\n",
       "                \n",
       "            </td>\n",
       "            <td style=\"padding: 0 0.5em 0 0.5em; text-align: left; border: none;\">\n",
       "                P_HABZONE_OPT\n",
       "            </td>\n",
       "        </tr>\n",
       "    \n",
       "        <tr style=\"background-color: hsl(0, 100.00%, 100.00%); border: none;\">\n",
       "            <td style=\"padding: 0 1em 0 0.5em; text-align: right; border: none;\">\n",
       "                0\n",
       "                \n",
       "                    &plusmn; 0.0000\n",
       "                \n",
       "            </td>\n",
       "            <td style=\"padding: 0 0.5em 0 0.5em; text-align: left; border: none;\">\n",
       "                P_YEAR\n",
       "            </td>\n",
       "        </tr>\n",
       "    \n",
       "        <tr style=\"background-color: hsl(0, 100.00%, 100.00%); border: none;\">\n",
       "            <td style=\"padding: 0 1em 0 0.5em; text-align: right; border: none;\">\n",
       "                0\n",
       "                \n",
       "                    &plusmn; 0.0000\n",
       "                \n",
       "            </td>\n",
       "            <td style=\"padding: 0 0.5em 0 0.5em; text-align: left; border: none;\">\n",
       "                P_UPDATED\n",
       "            </td>\n",
       "        </tr>\n",
       "    \n",
       "        <tr style=\"background-color: hsl(0, 100.00%, 100.00%); border: none;\">\n",
       "            <td style=\"padding: 0 1em 0 0.5em; text-align: right; border: none;\">\n",
       "                0\n",
       "                \n",
       "                    &plusmn; 0.0000\n",
       "                \n",
       "            </td>\n",
       "            <td style=\"padding: 0 0.5em 0 0.5em; text-align: left; border: none;\">\n",
       "                P_SEMI_MAJOR_AXIS\n",
       "            </td>\n",
       "        </tr>\n",
       "    \n",
       "        <tr style=\"background-color: hsl(0, 100.00%, 100.00%); border: none;\">\n",
       "            <td style=\"padding: 0 1em 0 0.5em; text-align: right; border: none;\">\n",
       "                0\n",
       "                \n",
       "                    &plusmn; 0.0000\n",
       "                \n",
       "            </td>\n",
       "            <td style=\"padding: 0 0.5em 0 0.5em; text-align: left; border: none;\">\n",
       "                P_SEMI_MAJOR_AXIS_ERROR_MIN\n",
       "            </td>\n",
       "        </tr>\n",
       "    \n",
       "        <tr style=\"background-color: hsl(0, 100.00%, 100.00%); border: none;\">\n",
       "            <td style=\"padding: 0 1em 0 0.5em; text-align: right; border: none;\">\n",
       "                0\n",
       "                \n",
       "                    &plusmn; 0.0000\n",
       "                \n",
       "            </td>\n",
       "            <td style=\"padding: 0 0.5em 0 0.5em; text-align: left; border: none;\">\n",
       "                P_SEMI_MAJOR_AXIS_ERROR_MAX\n",
       "            </td>\n",
       "        </tr>\n",
       "    \n",
       "        <tr style=\"background-color: hsl(0, 100.00%, 100.00%); border: none;\">\n",
       "            <td style=\"padding: 0 1em 0 0.5em; text-align: right; border: none;\">\n",
       "                0\n",
       "                \n",
       "                    &plusmn; 0.0000\n",
       "                \n",
       "            </td>\n",
       "            <td style=\"padding: 0 0.5em 0 0.5em; text-align: left; border: none;\">\n",
       "                P_NAME\n",
       "            </td>\n",
       "        </tr>\n",
       "    \n",
       "        <tr style=\"background-color: hsl(0, 100.00%, 100.00%); border: none;\">\n",
       "            <td style=\"padding: 0 1em 0 0.5em; text-align: right; border: none;\">\n",
       "                0\n",
       "                \n",
       "                    &plusmn; 0.0000\n",
       "                \n",
       "            </td>\n",
       "            <td style=\"padding: 0 0.5em 0 0.5em; text-align: left; border: none;\">\n",
       "                P_DETECTION\n",
       "            </td>\n",
       "        </tr>\n",
       "    \n",
       "        <tr style=\"background-color: hsl(0, 100.00%, 100.00%); border: none;\">\n",
       "            <td style=\"padding: 0 1em 0 0.5em; text-align: right; border: none;\">\n",
       "                0\n",
       "                \n",
       "                    &plusmn; 0.0000\n",
       "                \n",
       "            </td>\n",
       "            <td style=\"padding: 0 0.5em 0 0.5em; text-align: left; border: none;\">\n",
       "                S_RA\n",
       "            </td>\n",
       "        </tr>\n",
       "    \n",
       "        <tr style=\"background-color: hsl(0, 100.00%, 100.00%); border: none;\">\n",
       "            <td style=\"padding: 0 1em 0 0.5em; text-align: right; border: none;\">\n",
       "                0\n",
       "                \n",
       "                    &plusmn; 0.0000\n",
       "                \n",
       "            </td>\n",
       "            <td style=\"padding: 0 0.5em 0 0.5em; text-align: left; border: none;\">\n",
       "                S_DEC\n",
       "            </td>\n",
       "        </tr>\n",
       "    \n",
       "        <tr style=\"background-color: hsl(0, 100.00%, 100.00%); border: none;\">\n",
       "            <td style=\"padding: 0 1em 0 0.5em; text-align: right; border: none;\">\n",
       "                0\n",
       "                \n",
       "                    &plusmn; 0.0000\n",
       "                \n",
       "            </td>\n",
       "            <td style=\"padding: 0 0.5em 0 0.5em; text-align: left; border: none;\">\n",
       "                S_DISTANCE\n",
       "            </td>\n",
       "        </tr>\n",
       "    \n",
       "        <tr style=\"background-color: hsl(0, 100.00%, 100.00%); border: none;\">\n",
       "            <td style=\"padding: 0 1em 0 0.5em; text-align: right; border: none;\">\n",
       "                0\n",
       "                \n",
       "                    &plusmn; 0.0000\n",
       "                \n",
       "            </td>\n",
       "            <td style=\"padding: 0 0.5em 0 0.5em; text-align: left; border: none;\">\n",
       "                S_MASS\n",
       "            </td>\n",
       "        </tr>\n",
       "    \n",
       "        <tr style=\"background-color: hsl(0, 100.00%, 100.00%); border: none;\">\n",
       "            <td style=\"padding: 0 1em 0 0.5em; text-align: right; border: none;\">\n",
       "                0\n",
       "                \n",
       "                    &plusmn; 0.0000\n",
       "                \n",
       "            </td>\n",
       "            <td style=\"padding: 0 0.5em 0 0.5em; text-align: left; border: none;\">\n",
       "                S_MASS_ERROR_MIN\n",
       "            </td>\n",
       "        </tr>\n",
       "    \n",
       "        <tr style=\"background-color: hsl(0, 100.00%, 100.00%); border: none;\">\n",
       "            <td style=\"padding: 0 1em 0 0.5em; text-align: right; border: none;\">\n",
       "                0\n",
       "                \n",
       "                    &plusmn; 0.0000\n",
       "                \n",
       "            </td>\n",
       "            <td style=\"padding: 0 0.5em 0 0.5em; text-align: left; border: none;\">\n",
       "                S_MASS_ERROR_MAX\n",
       "            </td>\n",
       "        </tr>\n",
       "    \n",
       "        <tr style=\"background-color: hsl(0, 100.00%, 100.00%); border: none;\">\n",
       "            <td style=\"padding: 0 1em 0 0.5em; text-align: right; border: none;\">\n",
       "                0\n",
       "                \n",
       "                    &plusmn; 0.0000\n",
       "                \n",
       "            </td>\n",
       "            <td style=\"padding: 0 0.5em 0 0.5em; text-align: left; border: none;\">\n",
       "                P_ECCENTRICITY\n",
       "            </td>\n",
       "        </tr>\n",
       "    \n",
       "        <tr style=\"background-color: hsl(0, 100.00%, 100.00%); border: none;\">\n",
       "            <td style=\"padding: 0 1em 0 0.5em; text-align: right; border: none;\">\n",
       "                0\n",
       "                \n",
       "                    &plusmn; 0.0000\n",
       "                \n",
       "            </td>\n",
       "            <td style=\"padding: 0 0.5em 0 0.5em; text-align: left; border: none;\">\n",
       "                P_ANGULAR_DISTANCE\n",
       "            </td>\n",
       "        </tr>\n",
       "    \n",
       "    \n",
       "        \n",
       "            <tr style=\"background-color: hsl(0, 100.00%, 100.00%); border: none;\">\n",
       "                <td colspan=\"2\" style=\"padding: 0 0.5em 0 0.5em; text-align: center; border: none; white-space: nowrap;\">\n",
       "                    <i>&hellip; 16 more &hellip;</i>\n",
       "                </td>\n",
       "            </tr>\n",
       "        \n",
       "    \n",
       "    </tbody>\n",
       "</table>\n",
       "    \n",
       "\n",
       "    \n",
       "\n",
       "\n",
       "    \n",
       "\n",
       "    \n",
       "\n",
       "    \n",
       "\n",
       "    \n",
       "\n",
       "    \n",
       "\n",
       "    \n",
       "\n",
       "\n",
       "\n"
      ],
      "text/plain": [
       "<IPython.core.display.HTML object>"
      ]
     },
     "execution_count": 31,
     "metadata": {},
     "output_type": "execute_result"
    }
   ],
   "source": [
    "\n",
    "X = modelInputData.drop('P_HABITABLE', axis=1)\n",
    "Y = modelInputData['P_HABITABLE']\n",
    "perm = PermutationImportance(rf(n_estimators=10, random_state=0).fit(X,Y),random_state=1).fit(X,Y)\n",
    "eli5.show_weights(perm, feature_names = X.columns.tolist())"
   ]
  },
  {
   "cell_type": "code",
   "execution_count": 32,
   "metadata": {},
   "outputs": [
    {
     "name": "stdout",
     "output_type": "stream",
     "text": [
      "['P_PERIOD', 'P_ECCENTRICITY', 'S_DEC', 'S_DISTANCE', 'S_MASS', 'S_TEMPERATURE', 'P_FLUX', 'S_DEC_T', 'S_TIDAL_LOCK', 'P_HABZONE_OPT', 'P_RADIUS_EST', 'P_MASS_EST']\n",
      "[0.01056649 0.         0.0017415  0.00700458 0.05137496 0.01599013\n",
      " 0.01661914 0.01448353 0.04879173 0.01508848 0.00066233 0.01300684\n",
      " 0.03416015 0.09842518 0.06373115 0.00468695 0.00365526 0.00652079\n",
      " 0.00176076 0.00178474 0.         0.04597635 0.01380346 0.\n",
      " 0.08875972 0.         0.         0.02808382 0.05132104 0.08277499\n",
      " 0.00805364 0.         0.00210599 0.00131062 0.13492607 0.13282963]\n"
     ]
    }
   ],
   "source": [
    "from sklearn.feature_selection import SelectFromModel\n",
    "from sklearn.ensemble import RandomForestClassifier as rf\n",
    "\n",
    "selector = SelectFromModel(rf(n_estimators=1000, random_state=0))\n",
    "selector.fit(X, Y)\n",
    "support = selector.get_support()\n",
    "features_RandomForestClassifier = X.loc[:,support].columns.tolist()\n",
    "print(features_RandomForestClassifier)\n",
    "print(rf(n_estimators=1000, random_state=0).fit(X,Y).feature_importances_)"
   ]
  },
  {
   "cell_type": "code",
   "execution_count": 33,
   "metadata": {},
   "outputs": [
    {
     "name": "stdout",
     "output_type": "stream",
     "text": [
      "['P_PERIOD', 'P_SEMI_MAJOR_AXIS_ERROR_MIN', 'P_SEMI_MAJOR_AXIS_ERROR_MAX', 'P_ECCENTRICITY', 'S_DEC', 'S_DISTANCE', 'S_MASS', 'S_TEMPERATURE', 'P_FLUX', 'S_TIDAL_LOCK', 'P_HABZONE_OPT', 'P_RADIUS_EST', 'P_MASS_EST']\n",
      "[0.02124803 0.         0.00446712 0.00395292 0.04721871 0.02395851\n",
      " 0.05294289 0.03719582 0.05133485 0.01462747 0.01993584 0.02074018\n",
      " 0.06897623 0.04831165 0.04372147 0.00896469 0.02208509 0.00962906\n",
      " 0.00844544 0.01215678 0.         0.0650986  0.01420307 0.\n",
      " 0.04313923 0.         0.         0.02424424 0.03256507 0.13828126\n",
      " 0.01655009 0.         0.01371608 0.00986452 0.07458683 0.04783828]\n"
     ]
    }
   ],
   "source": [
    "from sklearn.feature_selection import SelectFromModel\n",
    "from sklearn.ensemble import ExtraTreesClassifier as et\n",
    "\n",
    "selector = SelectFromModel(et(n_estimators=1000, random_state=123))\n",
    "selector.fit(X, Y)\n",
    "support = selector.get_support()\n",
    "features_ExtraTreesClassifier = X.loc[:,support].columns.tolist()\n",
    "print(features_ExtraTreesClassifier)\n",
    "print(et(n_estimators=100, random_state=123).fit(X,Y).feature_importances_)"
   ]
  },
  {
   "attachments": {},
   "cell_type": "markdown",
   "metadata": {},
   "source": [
    "Train - Test Split Data"
   ]
  },
  {
   "cell_type": "code",
   "execution_count": 34,
   "metadata": {},
   "outputs": [],
   "source": [
    "features = nullFreeData[['P_TYPE_TEMP','P_PERIOD','S_DEC','S_DISTANCE','S_MASS','S_TEMPERATURE','P_TYPE','S_TIDAL_LOCK','P_HABZONE_OPT','P_RADIUS_EST']]\n",
    "target = nullFreeData['P_HABITABLE']\n",
    "\n",
    "# Split into test and train\n",
    "from sklearn.model_selection import train_test_split\n",
    "X_train, X_test, y_train, y_test = train_test_split(features, target, test_size=0.20, random_state=12345)"
   ]
  },
  {
   "cell_type": "code",
   "execution_count": 35,
   "metadata": {},
   "outputs": [],
   "source": [
    "#Normalizing features [Just increases the efficiency of the models]\n",
    "\n",
    "from sklearn.preprocessing import MinMaxScaler\n",
    "scaler = MinMaxScaler()\n",
    "X_train = scaler.fit_transform(X_train)\n",
    "X_test = scaler.fit_transform(X_test)"
   ]
  },
  {
   "attachments": {},
   "cell_type": "markdown",
   "metadata": {},
   "source": [
    "########################################################################################################################################"
   ]
  },
  {
   "attachments": {},
   "cell_type": "markdown",
   "metadata": {},
   "source": [
    "Phase 5 -- Building the model"
   ]
  },
  {
   "attachments": {},
   "cell_type": "markdown",
   "metadata": {},
   "source": [
    "########################################################################################################################################"
   ]
  },
  {
   "cell_type": "code",
   "execution_count": 36,
   "metadata": {},
   "outputs": [],
   "source": [
    "import time\n",
    "from sklearn.multiclass import OneVsRestClassifier\n",
    "from sklearn.metrics import accuracy_score, hamming_loss, cohen_kappa_score, classification_report\n",
    "import warnings"
   ]
  },
  {
   "cell_type": "code",
   "execution_count": 37,
   "metadata": {},
   "outputs": [
    {
     "name": "stdout",
     "output_type": "stream",
     "text": [
      "Accuracy = 0.760016694490818\n",
      "Hamming Loss = 0.23998330550918198\n",
      "Cohen's Kappa = 0.6398132268049861\n",
      "Time taken = 0.04512619972229004\n",
      "              precision    recall  f1-score   support\n",
      "\n",
      "         0.0    1.00000   0.98250   0.99117       800\n",
      "         1.0    0.99576   0.29523   0.45543       796\n",
      "         2.0    0.58224   1.00000   0.73597       800\n",
      "\n",
      "    accuracy                        0.76002      2396\n",
      "   macro avg    0.85933   0.75924   0.72752      2396\n",
      "weighted avg    0.85911   0.76002   0.72798      2396\n",
      "\n"
     ]
    }
   ],
   "source": [
    "#Simple Perceptron Model\n",
    "\n",
    "from sklearn.linear_model import Perceptron\n",
    "params_p = {'penalty':None, 'alpha': 1e-5, 'fit_intercept': True, 'random_state': 12345}\n",
    "model_p = Perceptron(**params_p)\n",
    "verbose = True\n",
    "t0=time.time()\n",
    "if verbose == False:\n",
    "    model_ovr = OneVsRestClassifier(model_p)\n",
    "    model_ovr.fit(X_train,y_train, verbose=0)\n",
    "else:\n",
    "    model_ovr = OneVsRestClassifier(model_p)\n",
    "    model_ovr.fit(X_train,y_train)\n",
    "y_pred = model_ovr.predict(X_test)\n",
    "accuracy = accuracy_score(y_test, y_pred)\n",
    "h_loss = hamming_loss(y_test, y_pred)\n",
    "coh_kap = cohen_kappa_score(y_test, y_pred)\n",
    "time_taken = time.time()-t0\n",
    "print(\"Accuracy = {}\".format(accuracy))\n",
    "print(\"Hamming Loss = {}\".format(h_loss))\n",
    "print(\"Cohen's Kappa = {}\".format(coh_kap))\n",
    "print(\"Time taken = {}\".format(time_taken))\n",
    "print(classification_report(y_test,y_pred,digits=5))\n"
   ]
  },
  {
   "cell_type": "code",
   "execution_count": 38,
   "metadata": {},
   "outputs": [],
   "source": [
    "def predict(x , model ):\n",
    "    if \"Terran\" in x:\n",
    "        return 2\n",
    "    elif \"Subterran\" in x:\n",
    "        return 1\n",
    "    else:\n",
    "        return 0"
   ]
  },
  {
   "cell_type": "code",
   "execution_count": 39,
   "metadata": {},
   "outputs": [
    {
     "name": "stdout",
     "output_type": "stream",
     "text": [
      "Accuracy = 0.8484974958263773\n",
      "Hamming Loss = 0.1515025041736227\n",
      "Cohen's Kappa = 0.7727479854934627\n",
      "Time taken = 0.012326478958129883\n",
      "              precision    recall  f1-score   support\n",
      "\n",
      "         0.0    1.00000   0.95875   0.97894       800\n",
      "         1.0    0.78908   0.79899   0.79401       796\n",
      "         2.0    0.76549   0.78750   0.77634       800\n",
      "\n",
      "    accuracy                        0.84850      2396\n",
      "   macro avg    0.85152   0.84841   0.84976      2396\n",
      "weighted avg    0.85163   0.84850   0.84986      2396\n",
      "\n"
     ]
    }
   ],
   "source": [
    "from sklearn.naive_bayes import MultinomialNB\n",
    "model_mnb = MultinomialNB()\n",
    "\n",
    "verbose = True\n",
    "t0=time.time()\n",
    "if verbose == False:\n",
    "    model_ovr = OneVsRestClassifier(model_mnb)\n",
    "    model_ovr.fit(X_train,y_train, verbose=0)\n",
    "else:\n",
    "    model_ovr = OneVsRestClassifier(model_mnb)\n",
    "    model_ovr.fit(X_train,y_train)\n",
    "y_pred = model_ovr.predict(X_test)\n",
    "accuracy = accuracy_score(y_test, y_pred)\n",
    "h_loss = hamming_loss(y_test, y_pred)\n",
    "coh_kap = cohen_kappa_score(y_test, y_pred)\n",
    "model_prediction = predict\n",
    "time_taken = time.time()-t0\n",
    "print(\"Accuracy = {}\".format(accuracy))\n",
    "print(\"Hamming Loss = {}\".format(h_loss))\n",
    "print(\"Cohen's Kappa = {}\".format(coh_kap))\n",
    "print(\"Time taken = {}\".format(time_taken))\n",
    "print(classification_report(y_test,y_pred,digits=5))\n",
    "\n"
   ]
  },
  {
   "cell_type": "code",
   "execution_count": 40,
   "metadata": {},
   "outputs": [
    {
     "name": "stdout",
     "output_type": "stream",
     "text": [
      "Accuracy = 0.8510016694490818\n",
      "Time taken = 0.0228579044342041\n"
     ]
    }
   ],
   "source": [
    "from sklearn.linear_model import SGDClassifier\n",
    "# Lasso regularization\n",
    "params_sgd = {'loss':'hinge', 'penalty':'l2', 'alpha': 1e-3, 'random_state': 12345, 'max_iter': 6, 'tol': None}\n",
    "model_sgd = SGDClassifier(**params_sgd)\n",
    "\n",
    "verbose = True\n",
    "t0=time.time()\n",
    "if verbose == False:\n",
    "    model_ovr = OneVsRestClassifier(model_sgd)\n",
    "    model_ovr.fit(X_train,y_train, verbose=0)\n",
    "else:\n",
    "    model_ovr = OneVsRestClassifier(model_sgd)\n",
    "    model_ovr.fit(X_train,y_train)\n",
    "y_pred = model_ovr.predict(X_test)\n",
    "accuracy = accuracy_score(y_test, y_pred)\n",
    "h_loss = hamming_loss(y_test, y_pred)\n",
    "coh_kap = cohen_kappa_score(y_test, y_pred)\n",
    "time_taken = time.time()-t0\n",
    "print(\"Accuracy = {}\".format(accuracy))\n",
    "print(\"Time taken = {}\".format(time_taken))\n",
    "\n"
   ]
  },
  {
   "cell_type": "code",
   "execution_count": 41,
   "metadata": {},
   "outputs": [
    {
     "name": "stdout",
     "output_type": "stream",
     "text": [
      "Accuracy = 0.6786310517529215\n",
      "Hamming Loss = 0.32136894824707846\n",
      "Cohen's Kappa = 0.5175610174490972\n",
      "Time taken = 0.8671648502349854\n",
      "              precision    recall  f1-score   support\n",
      "\n",
      "         0.0    1.00000   0.99125   0.99561       800\n",
      "         1.0    0.97059   0.04146   0.07952       796\n",
      "         2.0    0.50988   1.00000   0.67539       800\n",
      "\n",
      "    accuracy                        0.67863      2396\n",
      "   macro avg    0.82682   0.67757   0.58350      2396\n",
      "weighted avg    0.82658   0.67863   0.58435      2396\n",
      "\n"
     ]
    }
   ],
   "source": [
    "from sklearn.linear_model import LogisticRegression\n",
    "\n",
    "params_lr = {'penalty': 'l1', 'solver':'saga', 'multi_class':'multinomial'} #Ridge regularization\n",
    "model_lr = LogisticRegression(**params_lr)\n",
    "warnings.filterwarnings(\"ignore\")\n",
    "\n",
    "verbose = True\n",
    "t0=time.time()\n",
    "if verbose == False:\n",
    "    model_ovr = OneVsRestClassifier(model_lr)\n",
    "    model_ovr.fit(X_train,y_train, verbose=0)\n",
    "else:\n",
    "    model_ovr = OneVsRestClassifier(model_lr)\n",
    "    model_ovr.fit(X_train,y_train)\n",
    "y_pred = model_ovr.predict(X_test)\n",
    "accuracy = accuracy_score(y_test, y_pred)\n",
    "h_loss = hamming_loss(y_test, y_pred)\n",
    "coh_kap = cohen_kappa_score(y_test, y_pred)\n",
    "time_taken = time.time()-t0\n",
    "print(\"Accuracy = {}\".format(accuracy))\n",
    "print(\"Hamming Loss = {}\".format(h_loss))\n",
    "print(\"Cohen's Kappa = {}\".format(coh_kap))\n",
    "print(\"Time taken = {}\".format(time_taken))\n",
    "print(classification_report(y_test,y_pred,digits=5))"
   ]
  },
  {
   "cell_type": "code",
   "execution_count": 42,
   "metadata": {},
   "outputs": [
    {
     "name": "stdout",
     "output_type": "stream",
     "text": [
      "Accuracy = 0.333889816360601\n",
      "Hamming Loss = 0.666110183639399\n",
      "Cohen's Kappa = -2.220446049250313e-16\n",
      "Time taken = 2.314647912979126\n",
      "              precision    recall  f1-score   support\n",
      "\n",
      "         0.0    0.33855   1.00000   0.50585       800\n",
      "         1.0    0.00000   0.00000   0.00000       796\n",
      "         2.0    0.00000   0.00000   0.00000       800\n",
      "\n",
      "    accuracy                        0.33389      2396\n",
      "   macro avg    0.11285   0.33333   0.16862      2396\n",
      "weighted avg    0.11304   0.33389   0.16890      2396\n",
      "\n"
     ]
    }
   ],
   "source": [
    "from sklearn.ensemble import GradientBoostingClassifier\n",
    "params_gb = {'loss':'deviance', 'criterion': 'mse', 'n_estimators': 100, 'max_depth': 4, 'random_state': 12345, 'max_features': 'auto'}\n",
    "model_gb = GradientBoostingClassifier(**params_gb)\n",
    "warnings.filterwarnings(\"ignore\")\n",
    "\n",
    "verbose = True\n",
    "t0=time.time()\n",
    "if verbose == False:\n",
    "    model_ovr = OneVsRestClassifier(model_gb)\n",
    "    model_ovr.fit(X_train,y_train, verbose=0)\n",
    "else:\n",
    "    model_ovr = OneVsRestClassifier(model_gb)\n",
    "    model_ovr.fit(X_train,y_train)\n",
    "y_pred = model_ovr.predict(X_test)\n",
    "accuracy = accuracy_score(y_test, y_pred)\n",
    "h_loss = hamming_loss(y_test, y_pred)\n",
    "coh_kap = cohen_kappa_score(y_test, y_pred)\n",
    "time_taken = time.time()-t0\n",
    "print(\"Accuracy = {}\".format(accuracy))\n",
    "print(\"Hamming Loss = {}\".format(h_loss))\n",
    "print(\"Cohen's Kappa = {}\".format(coh_kap))\n",
    "print(\"Time taken = {}\".format(time_taken))\n",
    "print(classification_report(y_test,y_pred,digits=5))"
   ]
  },
  {
   "cell_type": "code",
   "execution_count": 43,
   "metadata": {},
   "outputs": [
    {
     "name": "stdout",
     "output_type": "stream",
     "text": [
      "Accuracy = 0.6181135225375626\n",
      "Hamming Loss = 0.38188647746243737\n",
      "Cohen's Kappa = 0.4267121181375636\n",
      "Time taken = 0.062127113342285156\n",
      "              precision    recall  f1-score   support\n",
      "\n",
      "         0.0    0.51466   0.98750   0.67666       800\n",
      "         1.0    0.97059   0.04146   0.07952       796\n",
      "         2.0    0.79565   0.82250   0.80885       800\n",
      "\n",
      "    accuracy                        0.61811      2396\n",
      "   macro avg    0.76030   0.61715   0.52168      2396\n",
      "weighted avg    0.75995   0.61811   0.52241      2396\n",
      "\n"
     ]
    }
   ],
   "source": [
    "from sklearn.linear_model import PassiveAggressiveClassifier\n",
    "params_pac = {'fit_intercept':True, 'random_state': 12345, 'loss':'hinge'}\n",
    "model_pac = PassiveAggressiveClassifier(**params_pac)\n",
    "\n",
    "verbose = True\n",
    "t0=time.time()\n",
    "if verbose == False:\n",
    "    model_ovr = OneVsRestClassifier(model_pac)\n",
    "    model_ovr.fit(X_train,y_train, verbose=0)\n",
    "else:\n",
    "    model_ovr = OneVsRestClassifier(model_pac)\n",
    "    model_ovr.fit(X_train,y_train)\n",
    "y_pred = model_ovr.predict(X_test)\n",
    "accuracy = accuracy_score(y_test, y_pred)\n",
    "h_loss = hamming_loss(y_test, y_pred)\n",
    "coh_kap = cohen_kappa_score(y_test, y_pred)\n",
    "time_taken = time.time()-t0\n",
    "print(\"Accuracy = {}\".format(accuracy))\n",
    "print(\"Hamming Loss = {}\".format(h_loss))\n",
    "print(\"Cohen's Kappa = {}\".format(coh_kap))\n",
    "print(\"Time taken = {}\".format(time_taken))\n",
    "print(classification_report(y_test,y_pred,digits=5))"
   ]
  },
  {
   "cell_type": "code",
   "execution_count": 44,
   "metadata": {},
   "outputs": [
    {
     "name": "stdout",
     "output_type": "stream",
     "text": [
      "2\n"
     ]
    }
   ],
   "source": [
    "#Parameters for Earth\n",
    "\n",
    "X_sample = ['Warm' , 162.87 , -15.93748 , 3.6 , 0.78 , 5344 , 'Terran' , 0.4413953 , 1 , 1.8099732 ]\n",
    "\n",
    "\n",
    "print(model_prediction(X_sample , model_sgd))\n"
   ]
  },
  {
   "cell_type": "code",
   "execution_count": 45,
   "metadata": {},
   "outputs": [
    {
     "name": "stdout",
     "output_type": "stream",
     "text": [
      "1\n"
     ]
    }
   ],
   "source": [
    "#Parameters for Mars\n",
    "\n",
    "X_sample = ['Warm' , 137 , 5.938 , 3.216 , 240.78 , 1 , 'Subterran' , 0.4413953 , 1 , 1.8099732 ]\n",
    "\n",
    "\n",
    "print(model_prediction(X_sample , model_sgd))"
   ]
  },
  {
   "cell_type": "code",
   "execution_count": 46,
   "metadata": {},
   "outputs": [
    {
     "name": "stdout",
     "output_type": "stream",
     "text": [
      "0\n"
     ]
    }
   ],
   "source": [
    "#Parameters for Mercury\n",
    "\n",
    "X_sample = ['Hot' , 14 , 2.421 , 1.123 , 932 , 8.353 , 'Rocky' , 0.4413953 , 1 , 1.8099732 ]\n",
    "\n",
    "\n",
    "print(model_prediction(X_sample , model_sgd))"
   ]
  },
  {
   "cell_type": "code",
   "execution_count": 47,
   "metadata": {},
   "outputs": [
    {
     "name": "stdout",
     "output_type": "stream",
     "text": [
      "0\n"
     ]
    }
   ],
   "source": [
    "#Parameters for Jupiter\n",
    "\n",
    "X_sample = ['Cold' , 9765 , 234.14 , 743.34 , 92131 , 87.32 , 'Gas_Giant' , 0.4413953 , 1 , 1.8099732 ]\n",
    "\n",
    "\n",
    "print(model_prediction(X_sample , model_sgd))"
   ]
  }
 ],
 "metadata": {
  "kernelspec": {
   "display_name": "Python 3",
   "language": "python",
   "name": "python3"
  },
  "language_info": {
   "codemirror_mode": {
    "name": "ipython",
    "version": 3
   },
   "file_extension": ".py",
   "mimetype": "text/x-python",
   "name": "python",
   "nbconvert_exporter": "python",
   "pygments_lexer": "ipython3",
   "version": "3.7.0"
  },
  "orig_nbformat": 4
 },
 "nbformat": 4,
 "nbformat_minor": 2
}
